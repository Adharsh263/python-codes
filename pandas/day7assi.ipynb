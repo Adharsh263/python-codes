{
 "cells": [
  {
   "cell_type": "code",
   "execution_count": 9,
   "metadata": {},
   "outputs": [
    {
     "data": {
      "text/html": [
       "<div>\n",
       "<style scoped>\n",
       "    .dataframe tbody tr th:only-of-type {\n",
       "        vertical-align: middle;\n",
       "    }\n",
       "\n",
       "    .dataframe tbody tr th {\n",
       "        vertical-align: top;\n",
       "    }\n",
       "\n",
       "    .dataframe thead th {\n",
       "        text-align: right;\n",
       "    }\n",
       "</style>\n",
       "<table border=\"1\" class=\"dataframe\">\n",
       "  <thead>\n",
       "    <tr style=\"text-align: right;\">\n",
       "      <th></th>\n",
       "      <th>name</th>\n",
       "      <th>age</th>\n",
       "      <th>team</th>\n",
       "    </tr>\n",
       "  </thead>\n",
       "  <tbody>\n",
       "    <tr>\n",
       "      <th>0</th>\n",
       "      <td>vasu</td>\n",
       "      <td>19</td>\n",
       "      <td>FCB</td>\n",
       "    </tr>\n",
       "    <tr>\n",
       "      <th>1</th>\n",
       "      <td>sugu</td>\n",
       "      <td>18</td>\n",
       "      <td>MU</td>\n",
       "    </tr>\n",
       "    <tr>\n",
       "      <th>2</th>\n",
       "      <td>dhamu</td>\n",
       "      <td>17</td>\n",
       "      <td>RM</td>\n",
       "    </tr>\n",
       "    <tr>\n",
       "      <th>3</th>\n",
       "      <td>babu</td>\n",
       "      <td>19</td>\n",
       "      <td>FCB</td>\n",
       "    </tr>\n",
       "    <tr>\n",
       "      <th>4</th>\n",
       "      <td>satheesh</td>\n",
       "      <td>18</td>\n",
       "      <td>MU</td>\n",
       "    </tr>\n",
       "    <tr>\n",
       "      <th>5</th>\n",
       "      <td>mani</td>\n",
       "      <td>17</td>\n",
       "      <td>RM</td>\n",
       "    </tr>\n",
       "  </tbody>\n",
       "</table>\n",
       "</div>"
      ],
      "text/plain": [
       "       name  age team\n",
       "0      vasu   19  FCB\n",
       "1      sugu   18   MU\n",
       "2     dhamu   17   RM\n",
       "3      babu   19  FCB\n",
       "4  satheesh   18   MU\n",
       "5      mani   17   RM"
      ]
     },
     "metadata": {},
     "output_type": "display_data"
    }
   ],
   "source": [
    " # concatinate dataframe verticaly\n",
    "\n",
    "import pandas as pd\n",
    "data1={'name':['vasu','sugu','dhamu'],\n",
    "      'age':[19,18,17],\n",
    "      'team':['FCB','MU','RM']}\n",
    "df1=pd.DataFrame(data1)\n",
    "data2={'name':['babu','satheesh','mani'],\n",
    "      'age':[19,18,17],\n",
    "      'team':['FCB','MU','RM']}\n",
    "df2=pd.DataFrame(data2)\n",
    "concatinated=pd.concat([df1,df2],ignore_index=True)\n",
    "display(concatinated)\n",
    "\n"
   ]
  },
  {
   "cell_type": "code",
   "execution_count": 3,
   "metadata": {},
   "outputs": [
    {
     "data": {
      "text/html": [
       "<div>\n",
       "<style scoped>\n",
       "    .dataframe tbody tr th:only-of-type {\n",
       "        vertical-align: middle;\n",
       "    }\n",
       "\n",
       "    .dataframe tbody tr th {\n",
       "        vertical-align: top;\n",
       "    }\n",
       "\n",
       "    .dataframe thead th {\n",
       "        text-align: right;\n",
       "    }\n",
       "</style>\n",
       "<table border=\"1\" class=\"dataframe\">\n",
       "  <thead>\n",
       "    <tr style=\"text-align: right;\">\n",
       "      <th></th>\n",
       "      <th>name</th>\n",
       "      <th>age</th>\n",
       "      <th>height</th>\n",
       "      <th>weight</th>\n",
       "    </tr>\n",
       "  </thead>\n",
       "  <tbody>\n",
       "    <tr>\n",
       "      <th>0</th>\n",
       "      <td>vasu</td>\n",
       "      <td>19</td>\n",
       "      <td>5.5</td>\n",
       "      <td>50</td>\n",
       "    </tr>\n",
       "    <tr>\n",
       "      <th>1</th>\n",
       "      <td>sugu</td>\n",
       "      <td>18</td>\n",
       "      <td>6.8</td>\n",
       "      <td>77</td>\n",
       "    </tr>\n",
       "    <tr>\n",
       "      <th>2</th>\n",
       "      <td>dhamu</td>\n",
       "      <td>17</td>\n",
       "      <td>7.0</td>\n",
       "      <td>90</td>\n",
       "    </tr>\n",
       "  </tbody>\n",
       "</table>\n",
       "</div>"
      ],
      "text/plain": [
       "    name  age  height  weight\n",
       "0   vasu   19     5.5      50\n",
       "1   sugu   18     6.8      77\n",
       "2  dhamu   17     7.0      90"
      ]
     },
     "metadata": {},
     "output_type": "display_data"
    }
   ],
   "source": [
    " # concatinate dataframe horizontaly\n",
    "import pandas as pd\n",
    "data1={'name':['vasu','sugu','dhamu'],\n",
    "        'age':[19,18,17]}\n",
    "df1=pd.DataFrame(data1)\n",
    "data2={'height':[5.5,6.8,7.0],\n",
    "       'weight':[50,77,90]}\n",
    "df2=pd.DataFrame(data2)\n",
    "concatinated=pd.concat([df1,df2],axis=1)\n",
    "display(concatinated)\n",
    "\n",
    "\n",
    "\n"
   ]
  },
  {
   "cell_type": "code",
   "execution_count": 4,
   "metadata": {},
   "outputs": [
    {
     "data": {
      "text/html": [
       "<div>\n",
       "<style scoped>\n",
       "    .dataframe tbody tr th:only-of-type {\n",
       "        vertical-align: middle;\n",
       "    }\n",
       "\n",
       "    .dataframe tbody tr th {\n",
       "        vertical-align: top;\n",
       "    }\n",
       "\n",
       "    .dataframe thead th {\n",
       "        text-align: right;\n",
       "    }\n",
       "</style>\n",
       "<table border=\"1\" class=\"dataframe\">\n",
       "  <thead>\n",
       "    <tr style=\"text-align: right;\">\n",
       "      <th></th>\n",
       "      <th>name</th>\n",
       "      <th>age</th>\n",
       "      <th>team</th>\n",
       "    </tr>\n",
       "  </thead>\n",
       "  <tbody>\n",
       "    <tr>\n",
       "      <th>0</th>\n",
       "      <td>vasu</td>\n",
       "      <td>19</td>\n",
       "      <td>FCB</td>\n",
       "    </tr>\n",
       "    <tr>\n",
       "      <th>1</th>\n",
       "      <td>sugu</td>\n",
       "      <td>18</td>\n",
       "      <td>MU</td>\n",
       "    </tr>\n",
       "    <tr>\n",
       "      <th>2</th>\n",
       "      <td>dhamu</td>\n",
       "      <td>17</td>\n",
       "      <td>RM</td>\n",
       "    </tr>\n",
       "    <tr>\n",
       "      <th>3</th>\n",
       "      <td>babu</td>\n",
       "      <td>19</td>\n",
       "      <td>FCB</td>\n",
       "    </tr>\n",
       "    <tr>\n",
       "      <th>4</th>\n",
       "      <td>satheesh</td>\n",
       "      <td>18</td>\n",
       "      <td>MU</td>\n",
       "    </tr>\n",
       "    <tr>\n",
       "      <th>5</th>\n",
       "      <td>mani</td>\n",
       "      <td>17</td>\n",
       "      <td>RM</td>\n",
       "    </tr>\n",
       "  </tbody>\n",
       "</table>\n",
       "</div>"
      ],
      "text/plain": [
       "       name  age team\n",
       "0      vasu   19  FCB\n",
       "1      sugu   18   MU\n",
       "2     dhamu   17   RM\n",
       "3      babu   19  FCB\n",
       "4  satheesh   18   MU\n",
       "5      mani   17   RM"
      ]
     },
     "metadata": {},
     "output_type": "display_data"
    }
   ],
   "source": [
    "import pandas as pd\n",
    "data1={'name':['vasu','sugu','dhamu'],\n",
    "      'age':[19,18,17],\n",
    "      'team':['FCB','MU','RM']}\n",
    "df1=pd.DataFrame(data1)\n",
    "data2={'name':['babu','satheesh','mani'],\n",
    "      'age':[19,18,17],\n",
    "      'team':['FCB','MU','RM']}\n",
    "df2=pd.DataFrame(data2)\n",
    "concatinated=pd.concat([df1,df2],ignore_index=True)\n",
    "display(concatinated)"
   ]
  },
  {
   "cell_type": "code",
   "execution_count": 1,
   "metadata": {},
   "outputs": [
    {
     "data": {
      "text/html": [
       "<div>\n",
       "<style scoped>\n",
       "    .dataframe tbody tr th:only-of-type {\n",
       "        vertical-align: middle;\n",
       "    }\n",
       "\n",
       "    .dataframe tbody tr th {\n",
       "        vertical-align: top;\n",
       "    }\n",
       "\n",
       "    .dataframe thead th {\n",
       "        text-align: right;\n",
       "    }\n",
       "</style>\n",
       "<table border=\"1\" class=\"dataframe\">\n",
       "  <thead>\n",
       "    <tr style=\"text-align: right;\">\n",
       "      <th></th>\n",
       "      <th>name</th>\n",
       "      <th>age</th>\n",
       "    </tr>\n",
       "  </thead>\n",
       "  <tbody>\n",
       "    <tr>\n",
       "      <th>1</th>\n",
       "      <td>vasu</td>\n",
       "      <td>19</td>\n",
       "    </tr>\n",
       "    <tr>\n",
       "      <th>2</th>\n",
       "      <td>sugu</td>\n",
       "      <td>18</td>\n",
       "    </tr>\n",
       "    <tr>\n",
       "      <th>3</th>\n",
       "      <td>dhamu</td>\n",
       "      <td>17</td>\n",
       "    </tr>\n",
       "    <tr>\n",
       "      <th>5</th>\n",
       "      <td>vasu</td>\n",
       "      <td>19</td>\n",
       "    </tr>\n",
       "    <tr>\n",
       "      <th>6</th>\n",
       "      <td>sugu</td>\n",
       "      <td>18</td>\n",
       "    </tr>\n",
       "    <tr>\n",
       "      <th>7</th>\n",
       "      <td>dhamu</td>\n",
       "      <td>17</td>\n",
       "    </tr>\n",
       "  </tbody>\n",
       "</table>\n",
       "</div>"
      ],
      "text/plain": [
       "    name  age\n",
       "1   vasu   19\n",
       "2   sugu   18\n",
       "3  dhamu   17\n",
       "5   vasu   19\n",
       "6   sugu   18\n",
       "7  dhamu   17"
      ]
     },
     "metadata": {},
     "output_type": "display_data"
    }
   ],
   "source": [
    "#concatinate with diff index\n",
    "import pandas as pd\n",
    "data1={'name':['vasu','sugu','dhamu'],          \n",
    "        'age':[19,18,17]}\n",
    "df1=pd.DataFrame(data1,index=[1,2,3])\n",
    "data2={'height':[5.5,6.8,7.0]}\n",
    "df2=pd.DataFrame(data1,index=[5,6,7])\n",
    "concatinated=pd.concat([df1,df2])\n",
    "display(concatinated)"
   ]
  },
  {
   "cell_type": "code",
   "execution_count": 2,
   "metadata": {},
   "outputs": [
    {
     "name": "stdout",
     "output_type": "stream",
     "text": [
      "  Team  Points  Ranks\n",
      "0  FCB      25      1\n",
      "1   MU      22     10\n"
     ]
    }
   ],
   "source": [
    "# merging two dataframe on a common column(inner join)\n",
    "import pandas as pd\n",
    "data1={'Team':['FCB','MU','RM','JUVE'],\n",
    "       'Points':[25,22,12,10]}\n",
    "data1=pd.DataFrame(data1)\n",
    "data2={'Team':['FCB','MU','MC','PSG'],\n",
    "       'Ranks':[1,10,2,9]}\n",
    "data2=pd.DataFrame(data2)\n",
    "merged_df=pd.merge(data1,data2,on='Team',how='inner')\n",
    "print(merged_df)\n"
   ]
  },
  {
   "cell_type": "code",
   "execution_count": 3,
   "metadata": {},
   "outputs": [
    {
     "name": "stdout",
     "output_type": "stream",
     "text": [
      "   Team  Points  Ranks\n",
      "0   FCB    25.0    1.0\n",
      "1  JUVE    10.0    NaN\n",
      "2    MC     NaN    2.0\n",
      "3    MU    22.0   10.0\n",
      "4   PSG     NaN    9.0\n",
      "5    RM    12.0    NaN\n"
     ]
    }
   ],
   "source": [
    "#6.\tMerging with an Outer Join:\n",
    "import pandas as pd\n",
    "data1={'Team':['FCB','MU','RM','JUVE'],\n",
    "       'Points':[25,22,12,10]}\n",
    "data1=pd.DataFrame(data1)\n",
    "data2={'Team':['FCB','MU','MC','PSG'],\n",
    "       'Ranks':[1,10,2,9]}\n",
    "data2=pd.DataFrame(data2)\n",
    "merged_df=pd.merge(data1,data2,on='Team',how='outer')\n",
    "print(merged_df)"
   ]
  },
  {
   "cell_type": "code",
   "execution_count": 4,
   "metadata": {},
   "outputs": [
    {
     "name": "stdout",
     "output_type": "stream",
     "text": [
      "   Team  Points  Ranks\n",
      "0   FCB      25    1.0\n",
      "1    MU      22   10.0\n",
      "2    RM      12    NaN\n",
      "3  JUVE      10    NaN\n"
     ]
    }
   ],
   "source": [
    "#7.\tMerging with a Left Join:\n",
    "import pandas as pd\n",
    "data1={'Team':['FCB','MU','RM','JUVE'],\n",
    "       'Points':[25,22,12,10]}\n",
    "data1=pd.DataFrame(data1)\n",
    "data2={'Team':['FCB','MU','MC','PSG'],\n",
    "       'Ranks':[1,10,2,9]}\n",
    "data2=pd.DataFrame(data2)\n",
    "merged_df=pd.merge(data1,data2,on='Team',how='left')\n",
    "print(merged_df)"
   ]
  },
  {
   "cell_type": "code",
   "execution_count": 5,
   "metadata": {},
   "outputs": [
    {
     "name": "stdout",
     "output_type": "stream",
     "text": [
      "  Team  Points  Ranks\n",
      "0  FCB    25.0      1\n",
      "1   MU    22.0     10\n",
      "2   MC     NaN      2\n",
      "3  PSG     NaN      9\n"
     ]
    }
   ],
   "source": [
    "#8.\tMerging with a Right Join:\n",
    "import pandas as pd\n",
    "data1={'Team':['FCB','MU','RM','JUVE'],\n",
    "       'Points':[25,22,12,10]}\n",
    "data1=pd.DataFrame(data1)\n",
    "data2={'Team':['FCB','MU','MC','PSG'],\n",
    "       'Ranks':[1,10,2,9]}\n",
    "data2=pd.DataFrame(data2)\n",
    "merged_df=pd.merge(data1,data2,on='Team',how='right')\n",
    "print(merged_df)\n"
   ]
  }
 ],
 "metadata": {
  "kernelspec": {
   "display_name": "Python 3",
   "language": "python",
   "name": "python3"
  },
  "language_info": {
   "codemirror_mode": {
    "name": "ipython",
    "version": 3
   },
   "file_extension": ".py",
   "mimetype": "text/x-python",
   "name": "python",
   "nbconvert_exporter": "python",
   "pygments_lexer": "ipython3",
   "version": "3.11.9"
  }
 },
 "nbformat": 4,
 "nbformat_minor": 2
}
