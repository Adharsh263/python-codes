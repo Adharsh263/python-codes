{
  "nbformat": 4,
  "nbformat_minor": 0,
  "metadata": {
    "colab": {
      "provenance": []
    },
    "kernelspec": {
      "name": "python3",
      "display_name": "Python 3"
    },
    "language_info": {
      "name": "python"
    }
  },
  "cells": [
    {
      "cell_type": "markdown",
      "source": [
        "**NumPy** stands for **Numerical Python**, is an open-source Python library that provides support for large, multi-dimensional arrays and matrices.\n",
        "\n",
        "It also have a collection of high-level mathematical functions to operate on arrays. It was created by Travis Oliphant in 2005."
      ],
      "metadata": {
        "id": "C7kBKmWtzVNg"
      }
    },
    {
      "cell_type": "markdown",
      "source": [
        "##What is NumPy?\n",
        "NumPy is a general-purpose array-processing package.\n",
        "\n",
        "It provides a high-performance multidimensional array object and tools for working with these arrays.\n",
        "\n",
        "It is the fundamental package for scientific computing with Python. It is open-source software."
      ],
      "metadata": {
        "id": "dQZWUTi9i1U_"
      }
    },
    {
      "cell_type": "markdown",
      "source": [
        "#Arrays in NumPy\n",
        "NumPy’s main object is the homogeneous multidimensional array.\n",
        "\n",
        "It is a table of elements (usually numbers), all of the same type, indexed by a tuple of positive integers.\n",
        "In NumPy, dimensions are called axes. The number of axes is rank.\n",
        "NumPy’s array class is called ndarray. It is also known by the alias array."
      ],
      "metadata": {
        "id": "8WUSSBYg0PnF"
      }
    },
    {
      "cell_type": "code",
      "source": [
        "import numpy as np\n",
        "\n",
        "# Creating array object\n",
        "arr = np.array( [[ 1, 2, 3],\n",
        "                 [ 4, 2, 5]] )\n",
        "\n",
        "# Printing type of arr object\n",
        "print(\"Array is of type: \", type(arr))\n",
        "\n",
        "# Printing array dimensions (axes)\n",
        "print(\"No. of dimensions: \", arr.ndim)\n",
        "\n",
        "# Printing shape of array\n",
        "print(\"Shape of array: \", arr.shape)\n",
        "\n",
        "# Printing size (total number of elements) of array\n",
        "print(\"Size of array: \", arr.size)\n",
        "\n",
        "# Printing type of elements in array\n",
        "print(\"Array stores elements of type: \", arr.dtype)\n"
      ],
      "metadata": {
        "colab": {
          "base_uri": "https://localhost:8080/"
        },
        "id": "OOKwTcWg1uPy",
        "outputId": "0995d8d5-2c0a-49ba-db9f-dbd674788f40"
      },
      "execution_count": null,
      "outputs": [
        {
          "output_type": "stream",
          "name": "stdout",
          "text": [
            "Array is of type:  <class 'numpy.ndarray'>\n",
            "No. of dimensions:  2\n",
            "Shape of array:  (2, 3)\n",
            "Size of array:  6\n",
            "Array stores elements of type:  int64\n"
          ]
        }
      ]
    },
    {
      "cell_type": "markdown",
      "source": [
        "#NumPy Array Creation\n",
        "There are various ways of Numpy array creation in Python. They are as follows:\n",
        "\n",
        "**1. Create NumPy Array with List and Tuple**\n",
        "\n",
        "You can create an array from a regular Python list or tuple using the array() function. The type of the resulting array is deduced from the type of the elements in the sequences. Let’s see this implementation:"
      ],
      "metadata": {
        "id": "No--ozGc2niY"
      }
    },
    {
      "cell_type": "code",
      "source": [
        "import numpy as np\n",
        "\n",
        "# Creating array from list with type float\n",
        "a = np.array([[1, 2, 4], [5, 8, 7]], dtype = 'float')\n",
        "print (\"Array created using passed list:\\n\", a)\n",
        "\n",
        "# Creating array from tuple\n",
        "b = np.array((1 , 3, 2))\n",
        "print (\"\\nArray created using passed tuple:\\n\", b)\n"
      ],
      "metadata": {
        "colab": {
          "base_uri": "https://localhost:8080/"
        },
        "id": "X-xlv76u2ofB",
        "outputId": "5b86ffd7-8ba8-4cca-8843-2d1c7936335b"
      },
      "execution_count": null,
      "outputs": [
        {
          "output_type": "stream",
          "name": "stdout",
          "text": [
            "Array created using passed list:\n",
            " [[1. 2. 4.]\n",
            " [5. 8. 7.]]\n",
            "\n",
            "Array created using passed tuple:\n",
            " [1 3 2]\n"
          ]
        }
      ]
    },
    {
      "cell_type": "markdown",
      "source": [
        "**Note: The type of array can be explicitly defined while creating the array.**"
      ],
      "metadata": {
        "id": "R09bXDtH8g3E"
      }
    },
    {
      "cell_type": "markdown",
      "source": [
        "**2. Create Array of Fixed Size**"
      ],
      "metadata": {
        "id": "od_7nMcc3cH_"
      }
    },
    {
      "cell_type": "code",
      "source": [
        "# Creating a 3X4 array with all zeros\n",
        "c = np.zeros((3, 4))\n",
        "print(c)\n",
        "print()\n",
        "\n",
        "# Create a constant value array of complex type\n",
        "d = np.full((3, 3), 6, dtype = 'complex')\n",
        "print(d)\n",
        "print()\n",
        "\n",
        "# Create an array with random values\n",
        "e = np.random.random((2, 2))\n",
        "print (e)\n"
      ],
      "metadata": {
        "colab": {
          "base_uri": "https://localhost:8080/"
        },
        "id": "BDPBthZZ3j1a",
        "outputId": "05a43147-3e18-4505-f8e0-33d7f2e75cfb"
      },
      "execution_count": null,
      "outputs": [
        {
          "output_type": "stream",
          "name": "stdout",
          "text": [
            "[[0. 0. 0. 0.]\n",
            " [0. 0. 0. 0.]\n",
            " [0. 0. 0. 0.]]\n",
            "\n",
            "[[6.+0.j 6.+0.j 6.+0.j]\n",
            " [6.+0.j 6.+0.j 6.+0.j]\n",
            " [6.+0.j 6.+0.j 6.+0.j]]\n",
            "\n",
            "[[0.70324019 0.69874493]\n",
            " [0.67579578 0.87379862]]\n"
          ]
        }
      ]
    },
    {
      "cell_type": "markdown",
      "source": [
        "**3. Create Using arange() Function**\n",
        "arange(): This function returns evenly spaced values within a given interval. Step size is specified."
      ],
      "metadata": {
        "id": "4610qUsO4d2F"
      }
    },
    {
      "cell_type": "code",
      "source": [
        "# Create a sequence of integers\n",
        "# from 0 to 30 with steps of 5\n",
        "f = np.arange(0, 30, 5)\n",
        "f"
      ],
      "metadata": {
        "colab": {
          "base_uri": "https://localhost:8080/"
        },
        "id": "H_BHhTTq5D4a",
        "outputId": "89b43201-5316-465c-8afb-534f84b84df6"
      },
      "execution_count": null,
      "outputs": [
        {
          "output_type": "execute_result",
          "data": {
            "text/plain": [
              "array([ 0,  5, 10, 15, 20, 25])"
            ]
          },
          "metadata": {},
          "execution_count": 31
        }
      ]
    },
    {
      "cell_type": "markdown",
      "source": [
        "**4. Create Using linspace() Function**\n",
        "\n",
        "linspace(): It returns evenly spaced values within a given interval."
      ],
      "metadata": {
        "id": "KRRTaj735K9O"
      }
    },
    {
      "cell_type": "code",
      "source": [
        "# Create a sequence of 10 values in range 0 to 5\n",
        "g = np.linspace(0, 5, 10)\n",
        "g"
      ],
      "metadata": {
        "colab": {
          "base_uri": "https://localhost:8080/"
        },
        "id": "wczk6KNf5lD2",
        "outputId": "3db6c862-241a-4d25-e572-14cf562f66dc"
      },
      "execution_count": null,
      "outputs": [
        {
          "output_type": "execute_result",
          "data": {
            "text/plain": [
              "array([0.        , 0.55555556, 1.11111111, 1.66666667, 2.22222222,\n",
              "       2.77777778, 3.33333333, 3.88888889, 4.44444444, 5.        ])"
            ]
          },
          "metadata": {},
          "execution_count": 33
        }
      ]
    },
    {
      "cell_type": "markdown",
      "source": [
        "#Reshaping Array using Reshape Method\n",
        "\n",
        "Consider an array with shape (a1, a2, a3, …, aN). We can reshape and convert it into another array with shape (b1, b2, b3, …, bM). The only required condition is a1 x a2 x a3 … x aN = b1 x b2 x b3 … x bM. (i.e. the original size of the array remains unchanged.)"
      ],
      "metadata": {
        "id": "azLuI8DX6SQi"
      }
    },
    {
      "cell_type": "code",
      "source": [
        "# Reshaping 3X4 array to 2X2X3 array\n",
        "arr = np.array([[1, 2, 3, 4],\n",
        "                [5, 2, 4, 2],\n",
        "                [1, 2, 0, 1]])\n",
        "\n",
        "newarr = arr.reshape(2, 2, 3)\n",
        "\n",
        "print (\"Original array:\\n\", arr)\n",
        "print(\"---------------\")\n",
        "print (\"Reshaped array:\\n\", newarr)\n"
      ],
      "metadata": {
        "colab": {
          "base_uri": "https://localhost:8080/"
        },
        "id": "QZqlI0Xa7O3y",
        "outputId": "7ed386c6-cefc-4fa6-b0fb-58a6460337af"
      },
      "execution_count": null,
      "outputs": [
        {
          "output_type": "stream",
          "name": "stdout",
          "text": [
            "Original array:\n",
            " [[1 2 3 4]\n",
            " [5 2 4 2]\n",
            " [1 2 0 1]]\n",
            "---------------\n",
            "Reshaped array:\n",
            " [[[1 2 3]\n",
            "  [4 5 2]]\n",
            "\n",
            " [[4 2 1]\n",
            "  [2 0 1]]]\n"
          ]
        }
      ]
    },
    {
      "cell_type": "markdown",
      "source": [
        "#Flatten Array\n",
        "Flatten array: We can use flatten method to get a copy of the array collapsed into one dimension."
      ],
      "metadata": {
        "id": "JaWawOlb7nla"
      }
    },
    {
      "cell_type": "code",
      "source": [
        "# Flatten array\n",
        "arr = np.array([[1, 2, 3], [4, 5, 6]])\n",
        "flat_arr = arr.flatten()\n",
        "\n",
        "print (\"Original array:\\n\", arr)\n",
        "print (\"Fattened array:\\n\", flat_arr)"
      ],
      "metadata": {
        "colab": {
          "base_uri": "https://localhost:8080/"
        },
        "id": "9_W7zyyB7m-6",
        "outputId": "3c23ca7e-4f59-4a81-d987-c11ebaf9cf84"
      },
      "execution_count": null,
      "outputs": [
        {
          "output_type": "stream",
          "name": "stdout",
          "text": [
            "Original array:\n",
            " [[1 2 3]\n",
            " [4 5 6]]\n",
            "Fattened array:\n",
            " [1 2 3 4 5 6]\n"
          ]
        }
      ]
    },
    {
      "cell_type": "markdown",
      "source": [
        "#NumPy Array Indexing\n",
        "Knowing the basics of NumPy array indexing is important for analyzing and manipulating the array object. NumPy in Python offers many ways to do array indexing.\n",
        "\n",
        "Slicing: Just like lists in Python, NumPy arrays can be sliced. As arrays can be multidimensional, you need to specify a slice for each dimension of the array.\n",
        "\n",
        "Integer array indexing: In this method, lists are passed for indexing for each dimension. One-to-one mapping of corresponding elements is done to construct a new arbitrary array.\n",
        "\n",
        "Boolean array indexing: This method is used when we want to pick elements from the array which satisfy some condition."
      ],
      "metadata": {
        "id": "QXrrHNEa7mo5"
      }
    },
    {
      "cell_type": "code",
      "source": [
        "# Python program to demonstrate\n",
        "# indexing in numpy\n",
        "import numpy as np\n",
        "\n",
        "# An exemplar array\n",
        "arr = np.array([[-1, 2, 0, 4],\n",
        "                [4, -0.5, 6, 0],\n",
        "                [2.6, 0, 7, 8],\n",
        "                [3, -7, 4, 2.0]])\n",
        "\n",
        "# Slicing array\n",
        "temp = arr[:2, ::2]\n",
        "print (\"Array with first 2 rows and alternate\"\n",
        "                    \"columns(0 and 2):\\n\", temp)\n",
        "\n",
        "# Integer array indexing example\n",
        "temp = arr[[0, 1, 2, 3], [3, 2, 1, 0]]\n",
        "print (\"\\nElements at indices (0, 3), (1, 2), (2, 1),\"\n",
        "                                    \"(3, 0):\\n\", temp)\n",
        "\n",
        "# boolean array indexing example\n",
        "cond = arr > 0 # cond is a boolean array\n",
        "temp = arr[cond]\n",
        "print (\"\\nElements greater than 0:\\n\", temp)\n"
      ],
      "metadata": {
        "colab": {
          "base_uri": "https://localhost:8080/"
        },
        "id": "mXNDG2Lw9krT",
        "outputId": "6644f609-8d2f-4de4-a82d-782b91c3e0ba"
      },
      "execution_count": null,
      "outputs": [
        {
          "output_type": "stream",
          "name": "stdout",
          "text": [
            "Array with first 2 rows and alternatecolumns(0 and 2):\n",
            " [[-1.  0.]\n",
            " [ 4.  6.]]\n",
            "\n",
            "Elements at indices (0, 3), (1, 2), (2, 1),(3, 0):\n",
            " [4. 6. 0. 3.]\n",
            "\n",
            "Elements greater than 0:\n",
            " [2.  4.  4.  6.  2.6 7.  8.  3.  4.  2. ]\n"
          ]
        }
      ]
    },
    {
      "cell_type": "markdown",
      "source": [
        "#Accessing the array Index\n",
        "In a numpy array, indexing or accessing the array index can be done in multiple ways. To print a range of an array, slicing is done. Slicing of an array is defining a range in a new array which is used to print a range of elements from the original array. Since, sliced array holds a range of elements of the original array, modifying content with the help of sliced array modifies the original array content."
      ],
      "metadata": {
        "id": "3SVCYxJ3lsI1"
      }
    },
    {
      "cell_type": "code",
      "source": [
        "import numpy as np\n",
        "\n",
        "# Initial Array\n",
        "arr = np.array([[-1, 2, 0, 4],\n",
        "                [4, -0.5, 6, 0],\n",
        "                [2.6, 0, 7, 8],\n",
        "                [3, -7, 4, 2.0]])\n",
        "arr"
      ],
      "metadata": {
        "colab": {
          "base_uri": "https://localhost:8080/"
        },
        "id": "tRL2qMLnmlCy",
        "outputId": "101a91be-9452-422c-cc73-ed0464b88867"
      },
      "execution_count": null,
      "outputs": [
        {
          "output_type": "execute_result",
          "data": {
            "text/plain": [
              "array([[-1. ,  2. ,  0. ,  4. ],\n",
              "       [ 4. , -0.5,  6. ,  0. ],\n",
              "       [ 2.6,  0. ,  7. ,  8. ],\n",
              "       [ 3. , -7. ,  4. ,  2. ]])"
            ]
          },
          "metadata": {},
          "execution_count": 6
        }
      ]
    },
    {
      "cell_type": "code",
      "source": [
        "# Printing a range of Array\n",
        "# with the use of slicing method\n",
        "sliced_arr = arr[:2, ::2]\n",
        "sliced_arr"
      ],
      "metadata": {
        "colab": {
          "base_uri": "https://localhost:8080/"
        },
        "id": "NfiivYWgnw49",
        "outputId": "7856a572-1336-494b-b93d-5d05e3e888b3"
      },
      "execution_count": null,
      "outputs": [
        {
          "output_type": "execute_result",
          "data": {
            "text/plain": [
              "array([[-1.,  0.],\n",
              "       [ 4.,  6.]])"
            ]
          },
          "metadata": {},
          "execution_count": 10
        }
      ]
    },
    {
      "cell_type": "code",
      "source": [
        " # Printing elements at\n",
        "# specific Indices\n",
        "Index_arr = arr[[1, 1, 0, 3],\n",
        "                [3, 2, 1, 0]]\n",
        "Index_arr #Elements at indices (1, 3),(1, 2), (0, 1), (3, 0)"
      ],
      "metadata": {
        "colab": {
          "base_uri": "https://localhost:8080/"
        },
        "id": "XenkTXQFpPGG",
        "outputId": "3ed4ad75-2e69-464b-93be-b62095946c8d"
      },
      "execution_count": null,
      "outputs": [
        {
          "output_type": "execute_result",
          "data": {
            "text/plain": [
              "array([0., 6., 2., 3.])"
            ]
          },
          "metadata": {},
          "execution_count": 11
        }
      ]
    },
    {
      "cell_type": "markdown",
      "source": [
        "#NumPy Basic Operations\n",
        "**1. Operations on a single NumPy array**\n",
        "\n",
        "We can use overloaded arithmetic operators to do element-wise operations on the array to create a new array. In the case of +=, -=, *= operators, the existing array is modified."
      ],
      "metadata": {
        "id": "6A23f4xHssZC"
      }
    },
    {
      "cell_type": "code",
      "source": [
        "# Python program to demonstrate\n",
        "# basic operations on single array\n",
        "import numpy as np\n",
        "\n",
        "a = np.array([1, 2, 5, 3])\n",
        "\n",
        "# add 1 to every element\n",
        "print (\"Adding 1 to every element:\", a+1)\n",
        "\n",
        "# subtract 3 from each element\n",
        "print (\"Subtracting 3 from each element:\", a-3)\n",
        "\n",
        "# multiply each element by 10\n",
        "print (\"Multiplying each element by 10:\", a*10)\n",
        "\n",
        "# square each element\n",
        "print (\"Squaring each element:\", a**2)\n",
        "\n",
        "# modify existing array\n",
        "a *= 2\n",
        "print (\"Doubled each element of original array:\", a)\n",
        "\n",
        "# transpose of array\n",
        "a = np.array([[1, 2, 3], [3, 4, 5], [9, 6, 0]])\n",
        "\n",
        "print (\"\\nOriginal array:\\n\", a)\n",
        "print (\"Transpose of array:\\n\", a.T)"
      ],
      "metadata": {
        "colab": {
          "base_uri": "https://localhost:8080/"
        },
        "id": "v871tr_pCCJJ",
        "outputId": "1e42d7b7-1c83-45b9-a26d-db43b0feef8e"
      },
      "execution_count": null,
      "outputs": [
        {
          "output_type": "stream",
          "name": "stdout",
          "text": [
            "Adding 1 to every element: [2 3 6 4]\n",
            "Subtracting 3 from each element: [-2 -1  2  0]\n",
            "Multiplying each element by 10: [10 20 50 30]\n",
            "Squaring each element: [ 1  4 25  9]\n",
            "Doubled each element of original array: [ 2  4 10  6]\n",
            "\n",
            "Original array:\n",
            " [[1 2 3]\n",
            " [3 4 5]\n",
            " [9 6 0]]\n",
            "Transpose of array:\n",
            " [[1 3 9]\n",
            " [2 4 6]\n",
            " [3 5 0]]\n"
          ]
        }
      ]
    },
    {
      "cell_type": "markdown",
      "source": [
        "**2.NumPy – Unary Operators**\n",
        "\n",
        "Many unary operations are provided as a method of ndarray class. This includes sum, min, max, etc. These functions can also be applied row-wise or column-wise by setting an axis parameter."
      ],
      "metadata": {
        "id": "ZLFPuJEOCcoU"
      }
    },
    {
      "cell_type": "code",
      "source": [
        "import numpy as np\n",
        "\n",
        "arr = np.array([[1, 5, 6],\n",
        "                [4, 7, 2],\n",
        "                [3, 1, 9]])\n",
        "\n",
        "# maximum element of array\n",
        "print (\"Largest element is:\", arr.max())\n",
        "print (\"Row-wise maximum elements:\",\n",
        "                    arr.max(axis = 1))"
      ],
      "metadata": {
        "id": "iJrxnEgEC4Mz",
        "colab": {
          "base_uri": "https://localhost:8080/"
        },
        "outputId": "1f272d20-90d6-42f9-bc28-9782c9b25d90"
      },
      "execution_count": null,
      "outputs": [
        {
          "output_type": "stream",
          "name": "stdout",
          "text": [
            "Largest element is: 9\n",
            "Row-wise maximum elements: [6 7 9]\n"
          ]
        }
      ]
    },
    {
      "cell_type": "code",
      "source": [
        "# minimum element of array\n",
        "print (\"Column-wise minimum elements:\",\n",
        "                        arr.min(axis = 0))\n"
      ],
      "metadata": {
        "colab": {
          "base_uri": "https://localhost:8080/"
        },
        "id": "OFTh6nGBCD21",
        "outputId": "c1f5d6f5-f938-4461-c2e7-500f6c56a12e"
      },
      "execution_count": null,
      "outputs": [
        {
          "output_type": "stream",
          "name": "stdout",
          "text": [
            "Column-wise minimum elements: [1 1 2]\n"
          ]
        }
      ]
    },
    {
      "cell_type": "code",
      "source": [
        "# sum of array elements\n",
        "print (\"Sum of all array elements:\",\n",
        "                            arr.sum())\n",
        "\n",
        "# cumulative sum along each row\n",
        "print (\"Cumulative sum along each row:\\n\",\n",
        "                        arr.cumsum(axis = 1))"
      ],
      "metadata": {
        "colab": {
          "base_uri": "https://localhost:8080/"
        },
        "id": "hs0bKyMWCDmt",
        "outputId": "3e665a66-2f80-4737-ea03-aeab5381e7df"
      },
      "execution_count": null,
      "outputs": [
        {
          "output_type": "stream",
          "name": "stdout",
          "text": [
            "Sum of all array elements: 38\n",
            "Cumulative sum along each row:\n",
            " [[ 1  6 12]\n",
            " [ 4 11 13]\n",
            " [ 3  4 13]]\n"
          ]
        }
      ]
    },
    {
      "cell_type": "markdown",
      "source": [
        "**3.NumPy – Binary Operators**\n",
        "\n",
        "These operations apply to the array elementwise and a new array is created. You can use all basic arithmetic operators like +, -, /,  etc. In the case of +=, -=, = operators, the existing array is modified."
      ],
      "metadata": {
        "id": "NcRyfeUyD5ng"
      }
    },
    {
      "cell_type": "code",
      "source": [
        "# Python program to demonstrate\n",
        "# binary operators in Numpy\n",
        "import numpy as np\n",
        "\n",
        "a = np.array([[1, 2],\n",
        "            [3, 4]])\n",
        "b = np.array([[4, 3],\n",
        "            [2, 1]])\n",
        "\n",
        "# add arrays\n",
        "print (\"Array sum:\\n\", a + b)\n",
        "\n",
        "# multiply arrays (elementwise multiplication)\n",
        "print (\"Array multiplication:\\n\", a*b)\n",
        "\n",
        "# matrix multiplication\n",
        "print (\"Matrix multiplication:\\n\", a.dot(b))\n"
      ],
      "metadata": {
        "colab": {
          "base_uri": "https://localhost:8080/"
        },
        "id": "lKElRT6gDbWs",
        "outputId": "c272a846-ffdd-4712-ef3b-0ef38f8ebb44"
      },
      "execution_count": null,
      "outputs": [
        {
          "output_type": "stream",
          "name": "stdout",
          "text": [
            "Array sum:\n",
            " [[5 5]\n",
            " [5 5]]\n",
            "Array multiplication:\n",
            " [[4 6]\n",
            " [6 4]]\n",
            "Matrix multiplication:\n",
            " [[ 8  5]\n",
            " [20 13]]\n"
          ]
        }
      ]
    },
    {
      "cell_type": "markdown",
      "source": [
        "#NymPy’s ufuncs\n",
        "NumPy provides familiar mathematical functions such as sin, cos, exp, etc. These functions also operate elementwise on an array, producing an array as output.\n",
        "\n",
        "Note: All the operations we did above using overloaded operators can be done using ufuncs like np.add, np.subtract, np.multiply, np.divide, np.sum, etc."
      ],
      "metadata": {
        "id": "-nQYq6saEsPu"
      }
    },
    {
      "cell_type": "code",
      "source": [
        "# Python program to demonstrate\n",
        "# universal functions in numpy\n",
        "import numpy as np\n",
        "\n",
        "# create an array of sine values\n",
        "a = np.array([0, np.pi/2, np.pi])\n",
        "print (\"Sine values of array elements:\", np.sin(a))\n",
        "\n",
        "# exponential values\n",
        "a = np.array([0, 1, 2, 3])\n",
        "print (\"Exponent of array elements:\", np.exp(a))\n",
        "\n",
        "# square root of array values\n",
        "print (\"Square root of array elements:\", np.sqrt(a))\n"
      ],
      "metadata": {
        "colab": {
          "base_uri": "https://localhost:8080/"
        },
        "id": "KDE3TiDjDbTO",
        "outputId": "a41ebc00-ee0b-4c30-822f-adb0ec2c94e0"
      },
      "execution_count": null,
      "outputs": [
        {
          "output_type": "stream",
          "name": "stdout",
          "text": [
            "Sine values of array elements: [0.0000000e+00 1.0000000e+00 1.2246468e-16]\n",
            "Exponent of array elements: [ 1.          2.71828183  7.3890561  20.08553692]\n",
            "Square root of array elements: [0.         1.         1.41421356 1.73205081]\n"
          ]
        }
      ]
    },
    {
      "cell_type": "markdown",
      "source": [
        "#NumPy Sorting Arrays\n",
        "There is a simple np.sort() method for sorting Python NumPy arrays. Let’s explore it a bit."
      ],
      "metadata": {
        "id": "g0GQmhQ4FCYU"
      }
    },
    {
      "cell_type": "code",
      "source": [
        "# Python program to demonstrate sorting in numpy\n",
        "import numpy as np\n",
        "\n",
        "a = np.array([[1, 4, 2],\n",
        "                 [3, 4, 6],\n",
        "              [0, -1, 5]])\n",
        "\n",
        "# sorted array\n",
        "print (\"Array elements in sorted order:\\n\",\n",
        "                    np.sort(a, axis = None))"
      ],
      "metadata": {
        "colab": {
          "base_uri": "https://localhost:8080/"
        },
        "id": "QNRWGXlEDbPb",
        "outputId": "a31de4d9-b3de-4be1-e6b1-11ca2f79e5ea"
      },
      "execution_count": null,
      "outputs": [
        {
          "output_type": "stream",
          "name": "stdout",
          "text": [
            "Array elements in sorted order:\n",
            " [-1  0  1  2  3  4  4  5  6]\n"
          ]
        }
      ]
    },
    {
      "cell_type": "code",
      "source": [
        "# sort array row-wise\n",
        "print (\"Row-wise sorted array:\\n\",\n",
        "                np.sort(a, axis = 1))"
      ],
      "metadata": {
        "colab": {
          "base_uri": "https://localhost:8080/"
        },
        "id": "WUMlmJsPEqud",
        "outputId": "2f41e2ff-49b2-4082-812e-5bd51739a31f"
      },
      "execution_count": null,
      "outputs": [
        {
          "output_type": "stream",
          "name": "stdout",
          "text": [
            "Row-wise sorted array:\n",
            " [[ 1  2  4]\n",
            " [ 3  4  6]\n",
            " [-1  0  5]]\n"
          ]
        }
      ]
    },
    {
      "cell_type": "code",
      "source": [
        "# specify sort algorithm\n",
        "print (\"Column wise sort by applying merge-sort:\\n\",\n",
        "            np.sort(a, axis = 0))"
      ],
      "metadata": {
        "colab": {
          "base_uri": "https://localhost:8080/"
        },
        "id": "n-Nn4IRQEqq_",
        "outputId": "4a3e5260-c226-44f4-9f06-7e1e02c573c5"
      },
      "execution_count": null,
      "outputs": [
        {
          "output_type": "stream",
          "name": "stdout",
          "text": [
            "Column wise sort by applying merge-sort:\n",
            " [[ 0 -1  2]\n",
            " [ 1  4  5]\n",
            " [ 3  4  6]]\n"
          ]
        }
      ]
    },
    {
      "cell_type": "code",
      "source": [
        "# Example to show sorting of structured array\n",
        "# set alias names for dtypes\n",
        "dtypes = [('name', 'S10'), ('grad_year', int), ('cgpa', float)]\n",
        "\n",
        "# Values to be put in array\n",
        "values = [('Hrithik', 2009, 8.5), ('Ajay', 2008, 8.7),\n",
        "           ('Pankaj', 2008, 7.9), ('Aakash', 2009, 9.0)]\n",
        "\n",
        "# Creating array\n",
        "arr = np.array(values, dtype = dtypes)\n",
        "print (\"\\nArray sorted by names:\\n\",\n",
        "            np.sort(arr, order = 'name'))\n",
        "\n",
        "print (\"Array sorted by graduation year and then cgpa:\\n\",\n",
        "                np.sort(arr, order = ['grad_year', 'cgpa']))"
      ],
      "metadata": {
        "colab": {
          "base_uri": "https://localhost:8080/"
        },
        "id": "lfm81NHTJq2v",
        "outputId": "9ea486df-e1da-4f55-e5f4-9bbd3108a56c"
      },
      "execution_count": null,
      "outputs": [
        {
          "output_type": "stream",
          "name": "stdout",
          "text": [
            "\n",
            "Array sorted by names:\n",
            " [(b'Aakash', 2009, 9. ) (b'Ajay', 2008, 8.7) (b'Hrithik', 2009, 8.5)\n",
            " (b'Pankaj', 2008, 7.9)]\n",
            "Array sorted by graduation year and then cgpa:\n",
            " [(b'Pankaj', 2008, 7.9) (b'Ajay', 2008, 8.7) (b'Hrithik', 2009, 8.5)\n",
            " (b'Aakash', 2009, 9. )]\n"
          ]
        }
      ]
    },
    {
      "cell_type": "markdown",
      "source": [
        "#some common methods used in NumPy"
      ],
      "metadata": {
        "id": "KRfI2zFUG6oI"
      }
    },
    {
      "cell_type": "markdown",
      "source": [
        "1. np.array()\n",
        "Creates a NumPy array."
      ],
      "metadata": {
        "id": "6CnNU-KkG-RQ"
      }
    },
    {
      "cell_type": "code",
      "source": [
        "import numpy as np\n",
        "\n",
        "arr = np.array([1, 2, 3, 4])\n",
        "print(arr)\n",
        "# Output: [1 2 3 4]\n"
      ],
      "metadata": {
        "colab": {
          "base_uri": "https://localhost:8080/"
        },
        "id": "-rNjR6BAG9k5",
        "outputId": "a9b528b3-25cc-475f-f86b-e1ef6c8ce885"
      },
      "execution_count": null,
      "outputs": [
        {
          "output_type": "stream",
          "name": "stdout",
          "text": [
            "[1 2 3 4]\n"
          ]
        }
      ]
    },
    {
      "cell_type": "markdown",
      "source": [
        "2. np.zeros()\n",
        "\n",
        "Creates an array filled with zeros."
      ],
      "metadata": {
        "id": "-m0NR19NHD3h"
      }
    },
    {
      "cell_type": "code",
      "source": [
        "zero_array = np.zeros((2, 3))\n",
        "print(zero_array)\n",
        "# Output:\n",
        "# [[0. 0. 0.]\n",
        "#  [0. 0. 0.]]\n"
      ],
      "metadata": {
        "colab": {
          "base_uri": "https://localhost:8080/"
        },
        "id": "VQ1SZGuPHG-0",
        "outputId": "a05cbfd2-ad32-4381-c60d-d090b32f2ce4"
      },
      "execution_count": null,
      "outputs": [
        {
          "output_type": "stream",
          "name": "stdout",
          "text": [
            "[[0. 0. 0.]\n",
            " [0. 0. 0.]]\n"
          ]
        }
      ]
    },
    {
      "cell_type": "markdown",
      "source": [
        "3. np.ones()\n",
        "\n",
        "Creates an array filled with ones."
      ],
      "metadata": {
        "id": "7UKoETlFHLfm"
      }
    },
    {
      "cell_type": "code",
      "source": [
        "ones_array = np.ones((3, 2))\n",
        "print(ones_array)\n",
        "# Output:\n",
        "# [[1. 1.]\n",
        "#  [1. 1.]\n",
        "#  [1. 1.]]\n"
      ],
      "metadata": {
        "colab": {
          "base_uri": "https://localhost:8080/"
        },
        "id": "xnJFkLdEHOek",
        "outputId": "57fc099f-da85-4023-aa7f-eabfa303f991"
      },
      "execution_count": null,
      "outputs": [
        {
          "output_type": "stream",
          "name": "stdout",
          "text": [
            "[[1. 1.]\n",
            " [1. 1.]\n",
            " [1. 1.]]\n"
          ]
        }
      ]
    },
    {
      "cell_type": "markdown",
      "source": [
        "4. np.full()\n",
        "\n",
        "Creates an array filled with a specified value."
      ],
      "metadata": {
        "id": "6ZxvI7YlHSBy"
      }
    },
    {
      "cell_type": "code",
      "source": [
        "full_array = np.full((2, 3), 7)\n",
        "print(full_array)\n",
        "# Output:\n",
        "# [[7 7 7]\n",
        "#  [7 7 7]]\n"
      ],
      "metadata": {
        "colab": {
          "base_uri": "https://localhost:8080/"
        },
        "id": "QJPD5CpAHUoT",
        "outputId": "c97e7d70-f5d7-4997-8acb-53a96f9011eb"
      },
      "execution_count": null,
      "outputs": [
        {
          "output_type": "stream",
          "name": "stdout",
          "text": [
            "[[7 7 7]\n",
            " [7 7 7]]\n"
          ]
        }
      ]
    },
    {
      "cell_type": "markdown",
      "source": [
        "5. np.eye()\n",
        "\n",
        "Creates an identity matrix (a square matrix with ones on the diagonal)."
      ],
      "metadata": {
        "id": "yN4JYCPkHmio"
      }
    },
    {
      "cell_type": "code",
      "source": [
        "identity_matrix = np.eye(3)\n",
        "print(identity_matrix)\n",
        "# Output:\n",
        "# [[1. 0. 0.]\n",
        "#  [0. 1. 0.]\n",
        "#  [0. 0. 1.]]\n"
      ],
      "metadata": {
        "colab": {
          "base_uri": "https://localhost:8080/"
        },
        "id": "w8a-1iRFHowk",
        "outputId": "653cdb1e-4aae-438a-ff7b-c7f2f210f8cc"
      },
      "execution_count": null,
      "outputs": [
        {
          "output_type": "stream",
          "name": "stdout",
          "text": [
            "[[1. 0. 0.]\n",
            " [0. 1. 0.]\n",
            " [0. 0. 1.]]\n"
          ]
        }
      ]
    },
    {
      "cell_type": "markdown",
      "source": [
        "6. np.random.rand()\n",
        "\n",
        "Generates an array of random numbers between 0 and 1."
      ],
      "metadata": {
        "id": "-0jVjdQkHtBM"
      }
    },
    {
      "cell_type": "code",
      "source": [
        "random_array = np.random.rand(2, 2)\n",
        "print(random_array)\n",
        "# Output: (Example)\n",
        "# [[0.73489812 0.50648798]\n",
        "#  [0.23458734 0.90564824]]\n"
      ],
      "metadata": {
        "colab": {
          "base_uri": "https://localhost:8080/"
        },
        "id": "y1fbsHDlHwVo",
        "outputId": "f0597ee6-3365-4248-fe7a-e25ad2ba4adc"
      },
      "execution_count": null,
      "outputs": [
        {
          "output_type": "stream",
          "name": "stdout",
          "text": [
            "[[0.09445952 0.94311216]\n",
            " [0.93130224 0.17882413]]\n"
          ]
        }
      ]
    },
    {
      "cell_type": "markdown",
      "source": [
        "7. np.random.randint()\n",
        "\n",
        "Generates an array of random integers within a specified range."
      ],
      "metadata": {
        "id": "j9d65ywtH5g5"
      }
    },
    {
      "cell_type": "code",
      "source": [
        "random_int_array = np.random.randint(1, 10, (2, 3))\n",
        "print(random_int_array)\n",
        "# Output: (Example)\n",
        "# [[3 7 9]\n",
        "#  [1 5 2]]\n"
      ],
      "metadata": {
        "colab": {
          "base_uri": "https://localhost:8080/"
        },
        "id": "sKv9c-sAH7zY",
        "outputId": "15cc80be-fe45-4121-ae73-3dff9f2db278"
      },
      "execution_count": null,
      "outputs": [
        {
          "output_type": "stream",
          "name": "stdout",
          "text": [
            "[[1 7 5]\n",
            " [5 7 5]]\n"
          ]
        }
      ]
    },
    {
      "cell_type": "markdown",
      "source": [
        "8. np.reshape()\n",
        "\n",
        "Reshapes an array to a different shape."
      ],
      "metadata": {
        "id": "p0tpziIeH-NP"
      }
    },
    {
      "cell_type": "code",
      "source": [
        "arr = np.array([1, 2, 3, 4, 5, 6])\n",
        "reshaped_arr = arr.reshape(2, 3)\n",
        "print(reshaped_arr)\n",
        "# Output:\n",
        "# [[1 2 3]\n",
        "#  [4 5 6]]\n"
      ],
      "metadata": {
        "colab": {
          "base_uri": "https://localhost:8080/"
        },
        "id": "p2ZsdWafH_Vl",
        "outputId": "b0166434-484d-4dfd-ea9b-334e2aeb870e"
      },
      "execution_count": null,
      "outputs": [
        {
          "output_type": "stream",
          "name": "stdout",
          "text": [
            "[[1 2 3]\n",
            " [4 5 6]]\n"
          ]
        }
      ]
    },
    {
      "cell_type": "markdown",
      "source": [
        "\n",
        "\n",
        "*   The reshape() method changes the shape of an array without changing its data.\n",
        "*   You must specify the new shape as a tuple. For example, arr.reshape(2, 3) changes the original shape of the array to a 2x3 matrix.\n"
      ],
      "metadata": {
        "id": "a62_EkRJO7i5"
      }
    },
    {
      "cell_type": "code",
      "source": [
        "#a. The Total Number of Elements Must Match\n",
        "#You cannot reshape an array to any arbitrary shape; the total number of elements in the reshaped array must match the total number of elements in the original array."
      ],
      "metadata": {
        "id": "gpyXzlrXPKeW"
      },
      "execution_count": null,
      "outputs": []
    },
    {
      "cell_type": "code",
      "source": [
        "arr = np.array([1, 2, 3, 4, 5, 6])\n",
        "\n",
        "# Can reshape to (2, 3) because 2 * 3 = 6 (total elements)\n",
        "reshaped_arr = arr.reshape(2, 3)\n",
        "print(reshaped_arr)\n",
        "\n",
        "# Cannot reshape to (3, 3) because 3 * 3 = 9 (which doesn't match 6 elements)\n",
        "# reshaped_arr = arr.reshape(3, 3)  # This would raise an error\n"
      ],
      "metadata": {
        "id": "1eM9qoFBPO_3"
      },
      "execution_count": null,
      "outputs": []
    },
    {
      "cell_type": "code",
      "source": [
        "#b. Using -1 in Reshape\n",
        "#You can use -1 to automatically calculate the size of one dimension. NumPy will figure out the dimension based on the total number of elements.\n",
        "arr = np.array([1, 2, 3, 4, 5, 6])\n",
        "\n",
        "# Automatically calculates the second dimension (here, 3 because 6/2 = 3)\n",
        "reshaped_arr = arr.reshape(2, -1)\n",
        "print(reshaped_arr)\n",
        "\n",
        "# Automatically calculates the first dimension (here, 2 because 6/3 = 2)\n",
        "reshaped_arr = arr.reshape(-1, 3)\n",
        "print(reshaped_arr)\n",
        "\n",
        "#The -1 is particularly useful when you know one dimension but don't want to manually calculate the other.\n"
      ],
      "metadata": {
        "colab": {
          "base_uri": "https://localhost:8080/"
        },
        "id": "H3OqI6aePUvR",
        "outputId": "67302f49-6e99-464c-8893-4029a32c879b"
      },
      "execution_count": null,
      "outputs": [
        {
          "output_type": "stream",
          "name": "stdout",
          "text": [
            "[[1 2 3]\n",
            " [4 5 6]]\n",
            "[[1 2 3]\n",
            " [4 5 6]]\n"
          ]
        }
      ]
    },
    {
      "cell_type": "code",
      "source": [
        "#c. Reshaping Multi-Dimensional Arrays\n",
        "#You can reshape higher-dimensional arrays. The logic remains the same: the total number of elements must match.\n",
        "\n",
        "arr = np.array([[1, 2, 3], [4, 5, 6]])\n",
        "\n",
        "# Reshape from (2, 3) to (3, 2)\n",
        "reshaped_arr = arr.reshape(3, 2)\n",
        "print(reshaped_arr)\n",
        "\n",
        "# Reshape from (2, 3) to (6,)\n",
        "reshaped_arr = arr.reshape(6)\n",
        "print(reshaped_arr)\n"
      ],
      "metadata": {
        "colab": {
          "base_uri": "https://localhost:8080/"
        },
        "id": "fKKZ_tGnPf0c",
        "outputId": "118a7903-8529-4bc7-d398-ad0b1e70e519"
      },
      "execution_count": null,
      "outputs": [
        {
          "output_type": "stream",
          "name": "stdout",
          "text": [
            "[[1 2]\n",
            " [3 4]\n",
            " [5 6]]\n",
            "[1 2 3 4 5 6]\n"
          ]
        }
      ]
    },
    {
      "cell_type": "code",
      "source": [
        "arr.reshape(3,2,1)"
      ],
      "metadata": {
        "colab": {
          "base_uri": "https://localhost:8080/"
        },
        "id": "hEv11KqehwFi",
        "outputId": "1d3f433f-c5e0-4d9c-a2b1-31b4d31ac87e"
      },
      "execution_count": null,
      "outputs": [
        {
          "output_type": "execute_result",
          "data": {
            "text/plain": [
              "array([[[1],\n",
              "        [2]],\n",
              "\n",
              "       [[3],\n",
              "        [4]],\n",
              "\n",
              "       [[5],\n",
              "        [6]]])"
            ]
          },
          "metadata": {},
          "execution_count": 30
        }
      ]
    },
    {
      "cell_type": "code",
      "source": [
        "#d. Reshaping and Views\n",
        "'''Reshaping often returns a view of the original array, meaning that the reshaped array shares data with the original array.\n",
        " This is memory efficient because no new data is created; the data is just \"viewed\" in a different shape.\n",
        " However, if the reshaped array is modified, the original array may also be affected (and vice versa).'''"
      ],
      "metadata": {
        "id": "MnIknzu4PqzM"
      },
      "execution_count": null,
      "outputs": []
    },
    {
      "cell_type": "code",
      "source": [
        "arr = np.array([1, 2, 3, 4, 5, 6])\n",
        "reshaped_arr = arr.reshape(2, 3)\n",
        "print(arr,'\\n\\n',reshaped_arr)\n",
        "\n",
        "reshaped_arr[0, 0] = 99  # Modifying the reshaped array\n",
        "print(arr)  # The original array also changes\n"
      ],
      "metadata": {
        "colab": {
          "base_uri": "https://localhost:8080/"
        },
        "id": "Y0LBKDp6P2Gu",
        "outputId": "5d19b71a-4990-482c-d94f-5bced33c9288"
      },
      "execution_count": null,
      "outputs": [
        {
          "output_type": "stream",
          "name": "stdout",
          "text": [
            "[1 2 3 4 5 6] \n",
            "\n",
            " [[1 2 3]\n",
            " [4 5 6]]\n",
            "[99  2  3  4  5  6]\n"
          ]
        }
      ]
    },
    {
      "cell_type": "markdown",
      "source": [
        "If you want a completely new copy, you can use the copy() method after reshaping."
      ],
      "metadata": {
        "id": "cvpv0di4P525"
      }
    },
    {
      "cell_type": "code",
      "source": [
        "reshaped_copy = arr.reshape(2, 3).copy()\n",
        "reshaped_copy[0, 0] = 100\n",
        "print(arr)  # The original array remains unchanged\n"
      ],
      "metadata": {
        "id": "6QDuMUe-P5PD"
      },
      "execution_count": null,
      "outputs": []
    },
    {
      "cell_type": "code",
      "source": [
        "#e. Flattening an Array\n",
        "#You can use reshape() to flatten a multi-dimensional array into a 1D array.\n",
        "\n",
        "arr = np.array([[1, 2], [3, 4], [5, 6]])\n",
        "\n",
        "# Reshape to 1D array\n",
        "flattened = arr.reshape(-1)\n",
        "print(flattened)\n",
        "# Output: [1 2 3 4 5 6]\n"
      ],
      "metadata": {
        "id": "2MsXhIWFP-WG"
      },
      "execution_count": null,
      "outputs": []
    },
    {
      "cell_type": "code",
      "source": [
        "#f. Reshaping for Broadcasting\n",
        "#Sometimes, reshaping is used in preparation for broadcasting. You may want to align the shapes of two arrays before performing operations on them.\n",
        "\n",
        "arr1 = np.array([1, 2, 3]) # Shape: (3,)\n",
        "arr2 = np.array([[10], [20]]) # Shape: (2, 1)\n",
        "\n",
        "# Reshape arr1 to broadcast with arr2\n",
        "reshaped_arr1 = arr1.reshape(1, -1)\n",
        "print(arr2 + reshaped_arr1)\n",
        "# Output:\n",
        "# [[11 12 13]\n",
        "#  [21 22 23]]\n"
      ],
      "metadata": {
        "id": "ok24lgc-QEiU"
      },
      "execution_count": null,
      "outputs": []
    },
    {
      "cell_type": "markdown",
      "source": [
        "**Reshaping arr1 for Broadcasting:**\n",
        "\n",
        "To allow element-wise addition between arr2 and arr1, you reshape arr1 to make it compatible for broadcasting with arr2.\n",
        "\n",
        "**Reshaping arr1 to make it a 2D row vector:**\n",
        "\n",
        "reshaped_arr1 = arr1.reshape(1, -1)  # Shape: (1, 3)\n",
        "\n",
        "**Now you have two arrays:**\n",
        "\n",
        "arr2: Shape (2, 1) (a column vector)\n",
        "\n",
        "reshaped_arr1: Shape (1, 3) (a row vector)\n",
        "\n",
        "**Broadcasting Process:**\n",
        "\n",
        "NumPy performs broadcasting by virtually expanding the arrays so they have the same shape.\n",
        "\n",
        "**Broadcasting Rule:**\n",
        "\n",
        "Broadcasting rules state that NumPy compares arrays' dimensions starting from the last axis and works backward. If the dimensions are different, one of the following happens:\n",
        "\n",
        "If one array has a dimension of size 1, NumPy will broadcast (duplicate) it across that dimension.  (2,1) to (2,3) and (1,3) to (2,3)\n",
        "\n",
        "If the sizes match, NumPy allows the operation along that axis.\n",
        "\n",
        "**Addition:**\n",
        "\n",
        "Now that both arrays are of the same shape (2, 3), element-wise addition occurs:\n",
        "\n",
        "[[10, 10, 10],      [[1, 2, 3],\n",
        " [20, 20, 20]]   +   [1, 2, 3]]\n",
        "\n",
        "= [[11, 12, 13],\n",
        "   [21, 22, 23]]\n"
      ],
      "metadata": {
        "id": "gTc6EE6zPJoZ"
      }
    },
    {
      "cell_type": "code",
      "source": [
        "#g. Handling Non-Contiguous Arrays\n",
        "#Not all arrays can be reshaped in the same way if they are non-contiguous\n",
        "#(i.e., when the array's elements are not stored continuously in memory). In some cases, NumPy will throw an error.\n",
        "arr = np.arange(1, 10).reshape(3, 3)\n",
        "sub_arr = arr[::2, ::2]  # Non-contiguous sub-array\n",
        "print(sub_arr)\n",
        "\n",
        "# This may raise an error because the sub-array is non-contiguous\n",
        "# reshaped = sub_arr.reshape(1, -1)\n",
        "\n",
        "#In such cases, you can use arr.copy() before reshaping to avoid the error.because,\n",
        "#copy() creates a contiguous copy of this sub-array in memory.\n"
      ],
      "metadata": {
        "colab": {
          "base_uri": "https://localhost:8080/"
        },
        "id": "T2pklI7ES2yw",
        "outputId": "7f030e9e-6968-4a5d-82f6-819266acc672"
      },
      "execution_count": null,
      "outputs": [
        {
          "output_type": "stream",
          "name": "stdout",
          "text": [
            "[[1 3]\n",
            " [7 9]]\n"
          ]
        }
      ]
    },
    {
      "cell_type": "markdown",
      "source": [
        "9. np.concatenate()\n",
        "\n",
        "Concatenates two or more arrays along a specified axis."
      ],
      "metadata": {
        "id": "o9vn5J0pIEi0"
      }
    },
    {
      "cell_type": "code",
      "source": [
        "arr1 = np.array([[1, 2], [3, 4]])\n",
        "arr2 = np.array([[5, 6]])\n",
        "concat_arr = np.concatenate((arr1, arr2), axis=0)\n",
        "print(concat_arr)\n",
        "# Output:\n",
        "# [[1 2]\n",
        "#  [3 4]\n",
        "#  [5 6]]\n"
      ],
      "metadata": {
        "colab": {
          "base_uri": "https://localhost:8080/"
        },
        "id": "At98Lt56IHCt",
        "outputId": "5a74f11a-04cb-45f4-a2af-6680bdc3b9f5"
      },
      "execution_count": null,
      "outputs": [
        {
          "output_type": "stream",
          "name": "stdout",
          "text": [
            "[[1 2]\n",
            " [3 4]\n",
            " [5 6]]\n"
          ]
        }
      ]
    },
    {
      "cell_type": "markdown",
      "source": [
        "10. np.sum()\n",
        "\n",
        "Computes the sum of array elements over a given axis."
      ],
      "metadata": {
        "id": "4fISTYeHIK_m"
      }
    },
    {
      "cell_type": "code",
      "source": [
        "arr = np.array([[1, 2, 3], [4, 5, 6]])\n",
        "sum_all = np.sum(arr)\n",
        "sum_axis0 = np.sum(arr, axis=0)\n",
        "sum_axis1 = np.sum(arr, axis=1)\n",
        "print(\"Sum of all elements:\", sum_all)\n",
        "print(\"Sum along axis 0:\", sum_axis0)\n",
        "print(\"Sum along axis 1:\", sum_axis1)\n",
        "# Output:\n",
        "# Sum of all elements: 21\n",
        "# Sum along axis 0: [5 7 9]\n",
        "# Sum along axis 1: [ 6 15]\n"
      ],
      "metadata": {
        "colab": {
          "base_uri": "https://localhost:8080/"
        },
        "id": "bkO7VfyEIMkC",
        "outputId": "f57c9915-73a7-4b3e-be7f-ab5ef3dd75af"
      },
      "execution_count": null,
      "outputs": [
        {
          "output_type": "stream",
          "name": "stdout",
          "text": [
            "Sum of all elements: 21\n",
            "Sum along axis 0: [5 7 9]\n",
            "Sum along axis 1: [ 6 15]\n"
          ]
        }
      ]
    },
    {
      "cell_type": "markdown",
      "source": [
        "11. np.mean()\n",
        "\n",
        "Calculates the mean (average) of array elements."
      ],
      "metadata": {
        "id": "lq43XmbMLcsu"
      }
    },
    {
      "cell_type": "code",
      "source": [
        "arr = np.array([1, 2, 3, 4, 5])\n",
        "mean_value = np.mean(arr)\n",
        "print(mean_value)\n",
        "# Output: 3.0\n"
      ],
      "metadata": {
        "colab": {
          "base_uri": "https://localhost:8080/"
        },
        "id": "tklktGRXLh0m",
        "outputId": "3c0b9db6-eced-4c2a-916b-ba33846cd7db"
      },
      "execution_count": null,
      "outputs": [
        {
          "output_type": "stream",
          "name": "stdout",
          "text": [
            "3.0\n"
          ]
        }
      ]
    },
    {
      "cell_type": "markdown",
      "source": [
        "12. np.max() and np.min()\n",
        "\n",
        "Finds the maximum and minimum values in the array."
      ],
      "metadata": {
        "id": "BNaiEFZRLkt8"
      }
    },
    {
      "cell_type": "code",
      "source": [
        "arr = np.array([[1, 5, 3], [4, 2, 8]])\n",
        "max_value = np.max(arr)\n",
        "min_value = np.min(arr)\n",
        "print(\"Max value:\", max_value)\n",
        "print(\"Min value:\", min_value)\n",
        "# Output:\n",
        "# Max value: 8\n",
        "# Min value: 1\n"
      ],
      "metadata": {
        "colab": {
          "base_uri": "https://localhost:8080/"
        },
        "id": "6ALqGB0SLsNA",
        "outputId": "d04e5e63-db16-4835-898f-02138f6de39d"
      },
      "execution_count": null,
      "outputs": [
        {
          "output_type": "stream",
          "name": "stdout",
          "text": [
            "Max value: 8\n",
            "Min value: 1\n"
          ]
        }
      ]
    },
    {
      "cell_type": "markdown",
      "source": [
        "13. np.argmax() and np.argmin()\n",
        "\n",
        "Finds the indices of the maximum and minimum values in the array."
      ],
      "metadata": {
        "id": "bQ9gMPjPLwZC"
      }
    },
    {
      "cell_type": "code",
      "source": [
        "arr = np.array([3, 7, 2, 9, 1])\n",
        "argmax_value = np.argmax(arr)\n",
        "argmin_value = np.argmin(arr)\n",
        "print(\"Index of max value:\", argmax_value)\n",
        "print(\"Index of min value:\", argmin_value)\n",
        "# Output:\n",
        "# Index of max value: 3\n",
        "# Index of min value: 4\n"
      ],
      "metadata": {
        "colab": {
          "base_uri": "https://localhost:8080/"
        },
        "id": "poKVGyJLLxqz",
        "outputId": "f449b6a5-dada-411f-ffeb-375dba80a9db"
      },
      "execution_count": null,
      "outputs": [
        {
          "output_type": "stream",
          "name": "stdout",
          "text": [
            "Index of max value: 3\n",
            "Index of min value: 4\n"
          ]
        }
      ]
    },
    {
      "cell_type": "markdown",
      "source": [
        "14. np.transpose()\n",
        "\n",
        "Transposes the array (i.e., flips the axes)."
      ],
      "metadata": {
        "id": "T0ETt_I1L9JB"
      }
    },
    {
      "cell_type": "code",
      "source": [
        "arr = np.array([[1, 2, 3], [4, 5, 6]])\n",
        "transposed_arr = np.transpose(arr)\n",
        "print(transposed_arr)\n",
        "# Output:\n",
        "# [[1 4]\n",
        "#  [2 5]\n",
        "#  [3 6]]\n"
      ],
      "metadata": {
        "colab": {
          "base_uri": "https://localhost:8080/"
        },
        "id": "Ei5j0lu0L_1b",
        "outputId": "782784e6-8043-4c0e-cf42-d82368a5dfb4"
      },
      "execution_count": null,
      "outputs": [
        {
          "output_type": "stream",
          "name": "stdout",
          "text": [
            "[[1 4]\n",
            " [2 5]\n",
            " [3 6]]\n"
          ]
        }
      ]
    },
    {
      "cell_type": "markdown",
      "source": [
        "15. np.dot()\n",
        "\n",
        "Computes the dot product of two arrays (matrix multiplication)."
      ],
      "metadata": {
        "id": "Di1QgLeAMDPR"
      }
    },
    {
      "cell_type": "code",
      "source": [
        "arr1 = np.array([[1, 2], [3, 4]])\n",
        "arr2 = np.array([[5, 6], [7, 8]])\n",
        "dot_product = np.dot(arr1, arr2)\n",
        "print(dot_product)\n",
        "# Output:\n",
        "# [[19 22]\n",
        "#  [43 50]]\n"
      ],
      "metadata": {
        "colab": {
          "base_uri": "https://localhost:8080/"
        },
        "id": "oCd8KlNdMF59",
        "outputId": "ae74cc3b-d514-480b-be3a-22eb64a56176"
      },
      "execution_count": null,
      "outputs": [
        {
          "output_type": "stream",
          "name": "stdout",
          "text": [
            "[[19 22]\n",
            " [43 50]]\n"
          ]
        }
      ]
    },
    {
      "cell_type": "markdown",
      "source": [
        "16. np.linalg.inv()\n",
        "\n",
        "Computes the inverse of a matrix."
      ],
      "metadata": {
        "id": "R6bqckDtMK1Y"
      }
    },
    {
      "cell_type": "code",
      "source": [
        "matrix = np.array([[1, 2], [3, 4]])\n",
        "inverse_matrix = np.linalg.inv(matrix)\n",
        "print(inverse_matrix)\n",
        "# Output:\n",
        "# [[-2.   1. ]\n",
        "#  [ 1.5 -0.5]]\n"
      ],
      "metadata": {
        "colab": {
          "base_uri": "https://localhost:8080/"
        },
        "id": "VuuwPvnMMNGE",
        "outputId": "a982ca31-b776-4e30-ac64-d3e3b05dc9f9"
      },
      "execution_count": null,
      "outputs": [
        {
          "output_type": "stream",
          "name": "stdout",
          "text": [
            "[[-2.   1. ]\n",
            " [ 1.5 -0.5]]\n"
          ]
        }
      ]
    },
    {
      "cell_type": "markdown",
      "source": [
        "17. np.arange()\n",
        "\n",
        "Generates an array of evenly spaced values within a given range."
      ],
      "metadata": {
        "id": "K5TR8jz4MQr2"
      }
    },
    {
      "cell_type": "code",
      "source": [
        "arr = np.arange(0, 10, 2)\n",
        "print(arr)\n",
        "# Output: [0 2 4 6 8]\n"
      ],
      "metadata": {
        "colab": {
          "base_uri": "https://localhost:8080/"
        },
        "id": "wlIhchP-MTBd",
        "outputId": "640edfe8-5fc8-46d8-dbd3-2d8809365fc2"
      },
      "execution_count": null,
      "outputs": [
        {
          "output_type": "stream",
          "name": "stdout",
          "text": [
            "[0 2 4 6 8]\n"
          ]
        }
      ]
    },
    {
      "cell_type": "markdown",
      "source": [
        "18. np.linspace()\n",
        "\n",
        "Generates an array of evenly spaced values between two numbers."
      ],
      "metadata": {
        "id": "cyL45SscMVtG"
      }
    },
    {
      "cell_type": "code",
      "source": [
        "arr = np.linspace(0, 1, 5)\n",
        "print(arr)\n",
        "# Output: [0.   0.25 0.5  0.75 1.  ]\n"
      ],
      "metadata": {
        "colab": {
          "base_uri": "https://localhost:8080/"
        },
        "id": "BkHFyDQyMW-u",
        "outputId": "9c720b45-6fb8-4a44-9205-79222dfca7cb"
      },
      "execution_count": null,
      "outputs": [
        {
          "output_type": "stream",
          "name": "stdout",
          "text": [
            "[0.   0.25 0.5  0.75 1.  ]\n"
          ]
        }
      ]
    },
    {
      "cell_type": "markdown",
      "source": [
        "**How to Think of axis:**\n",
        "\n",
        "**In Operations (like sum):**\n",
        "\n",
        "**axis=0:** Think of it as working down the rows (i.e., it applies the operation column-wise).\n",
        "\n",
        "**axis=1:** Think of it as working across the columns (i.e., it applies the operation row-wise).\n",
        "\n",
        "**In Drop or Removal Operations (specific to Pandas):**\n",
        "\n",
        "**axis=0:** Refers to dropping rows.\n",
        "\n",
        "**axis=1:** Refers to dropping columns."
      ],
      "metadata": {
        "id": "OaICyJ1KK6_V"
      }
    },
    {
      "cell_type": "markdown",
      "source": [
        "#Advanced Array Operations in Numpy"
      ],
      "metadata": {
        "id": "wT34FDITL_d2"
      }
    },
    {
      "cell_type": "markdown",
      "source": [
        "**1. Stacking: Several arrays can be stacked together along different axes.**\n",
        "\n",
        "np.vstack: To stack arrays along vertical axis.\n",
        "\n",
        "np.hstack: To stack arrays along horizontal axis.\n",
        "\n",
        "np.column_stack: To stack 1-D arrays as columns into 2-D arrays.\n",
        "\n",
        "np.concatenate: To stack arrays along specified axis (axis is passed as argument)."
      ],
      "metadata": {
        "id": "UqWVy0azMbw_"
      }
    },
    {
      "cell_type": "code",
      "source": [
        "import numpy as np\n",
        "\n",
        "a = np.array([[1, 2],\n",
        "              [3, 4]])\n",
        "\n",
        "b = np.array([[5, 6],\n",
        "              [7, 8]])\n",
        "print(a,'\\n\\n',b)"
      ],
      "metadata": {
        "colab": {
          "base_uri": "https://localhost:8080/"
        },
        "id": "LQJeokfXJqzR",
        "outputId": "3e8d8f2c-34ba-4c48-8e2f-b7d2da62f11f"
      },
      "execution_count": null,
      "outputs": [
        {
          "output_type": "stream",
          "name": "stdout",
          "text": [
            "[[1 2]\n",
            " [3 4]] \n",
            "\n",
            " [[5 6]\n",
            " [7 8]]\n"
          ]
        }
      ]
    },
    {
      "cell_type": "code",
      "source": [
        "# vertical stacking\n",
        "np.vstack((a, b))"
      ],
      "metadata": {
        "colab": {
          "base_uri": "https://localhost:8080/"
        },
        "id": "3NYWEZK_PcMo",
        "outputId": "28593fc2-b39c-4aba-d829-5df52e201cec"
      },
      "execution_count": null,
      "outputs": [
        {
          "output_type": "execute_result",
          "data": {
            "text/plain": [
              "array([[1, 2],\n",
              "       [3, 4],\n",
              "       [5, 6],\n",
              "       [7, 8]])"
            ]
          },
          "metadata": {},
          "execution_count": 12
        }
      ]
    },
    {
      "cell_type": "code",
      "source": [
        "# horizontal stacking\n",
        "print(\"\\nHorizontal stacking:\\n\", np.hstack((a, b)))"
      ],
      "metadata": {
        "id": "Lfg3sG6KPb_4",
        "colab": {
          "base_uri": "https://localhost:8080/"
        },
        "outputId": "52195928-21f9-4903-c222-aec56a495cba"
      },
      "execution_count": null,
      "outputs": [
        {
          "output_type": "stream",
          "name": "stdout",
          "text": [
            "\n",
            "Horizontal stacking:\n",
            " [[1 2 5 6]\n",
            " [3 4 7 8]]\n"
          ]
        }
      ]
    },
    {
      "cell_type": "code",
      "source": [
        "c = [5, 6]\n",
        "\n",
        "# stacking columns\n",
        "print(\"\\nColumn stacking:\\n\", np.column_stack((a, c)))"
      ],
      "metadata": {
        "colab": {
          "base_uri": "https://localhost:8080/"
        },
        "id": "D0tJMnQnJqwJ",
        "outputId": "ce0324ab-f7cc-41bb-d808-1b8c0f884575"
      },
      "execution_count": null,
      "outputs": [
        {
          "output_type": "stream",
          "name": "stdout",
          "text": [
            "\n",
            "Column stacking:\n",
            " [[1 2 5]\n",
            " [3 4 6]]\n"
          ]
        }
      ]
    },
    {
      "cell_type": "code",
      "source": [
        "np.concatenate((a, b), 1)"
      ],
      "metadata": {
        "colab": {
          "base_uri": "https://localhost:8080/"
        },
        "id": "LXMNfuTIPvhe",
        "outputId": "ddee7fcc-a03c-4bc6-aaa8-e4641de5f834"
      },
      "execution_count": null,
      "outputs": [
        {
          "output_type": "execute_result",
          "data": {
            "text/plain": [
              "array([[1, 2, 5, 6],\n",
              "       [3, 4, 7, 8]])"
            ]
          },
          "metadata": {},
          "execution_count": 50
        }
      ]
    },
    {
      "cell_type": "markdown",
      "source": [
        "**2. Splitting:For splitting, we have these functions:**\n",
        "\n",
        "**np.hsplit:** Split array along horizontal axis.\n",
        "\n",
        "**np.vsplit:** Split array along vertical axis.\n",
        "\n",
        "**np.array_split:** Split array along specified axis."
      ],
      "metadata": {
        "id": "MrZV_bgbRDIp"
      }
    },
    {
      "cell_type": "code",
      "source": [
        "import numpy as np\n",
        "\n",
        "a = np.array([[1, 3, 5, 7, 9, 11],\n",
        "\t\t\t[2, 4, 6, 8, 10, 12]])\n",
        "\n",
        "# horizontal splitting\n",
        "print(\"Splitting along horizontal axis into 2 parts:\\n\", np.hsplit(a, 2))\n",
        "\n",
        "# vertical splitting\n",
        "print(\"\\nSplitting along vertical axis into 2 parts:\\n\", np.vsplit(a, 2))\n"
      ],
      "metadata": {
        "colab": {
          "base_uri": "https://localhost:8080/"
        },
        "id": "hkMBiDXGPveI",
        "outputId": "5d2945a5-ec3f-4dfa-ac86-ea133da076a1"
      },
      "execution_count": null,
      "outputs": [
        {
          "output_type": "stream",
          "name": "stdout",
          "text": [
            "Splitting along horizontal axis into 2 parts:\n",
            " [array([[1, 3, 5],\n",
            "       [2, 4, 6]]), array([[ 7,  9, 11],\n",
            "       [ 8, 10, 12]])]\n",
            "\n",
            "Splitting along vertical axis into 2 parts:\n",
            " [array([[ 1,  3,  5,  7,  9, 11]]), array([[ 2,  4,  6,  8, 10, 12]])]\n"
          ]
        }
      ]
    },
    {
      "cell_type": "markdown",
      "source": [
        "**3. Broadcasting:** The term broadcasting describes how NumPy treats arrays with different shapes during arithmetic operations. Subject to certain constraints, the smaller array is “broadcast” across the larger array so that they have compatible shapes."
      ],
      "metadata": {
        "id": "FG0OAUSSo_lu"
      }
    },
    {
      "cell_type": "markdown",
      "source": [
        "The Broadcasting Rule: In order to broadcast, the size of the trailing axes for both arrays in an operation must either be the same size or one of them must be one.\n",
        "\n",
        "**Let us see some examples:**"
      ],
      "metadata": {
        "id": "-MW6-JSpuxiW"
      }
    },
    {
      "cell_type": "markdown",
      "source": [
        "A(2-D array): 4 x 3\n",
        "\n",
        "B(1-D array):     3\n",
        "\n",
        "Result      : 4 x 3"
      ],
      "metadata": {
        "id": "siCapSOHu1WH"
      }
    },
    {
      "cell_type": "markdown",
      "source": [
        "A(4-D array): 7 x 1 x 6 x 1\n",
        "\n",
        "B(3-D array):     3 x 1 x 5"
      ],
      "metadata": {
        "id": "2TW6vKsHu5KS"
      }
    },
    {
      "cell_type": "markdown",
      "source": [
        "**But this would be a mismatch:**\n",
        "\n",
        "A: 4 x 3\n",
        "\n",
        "B:     4"
      ],
      "metadata": {
        "id": "U-EXxmaBu_9h"
      }
    },
    {
      "cell_type": "code",
      "source": [
        "a = np.array([0.0, 10.0, 20.0, 30.0])\n",
        "b = np.array([0.0, 1.0, 2.0])"
      ],
      "metadata": {
        "id": "j-eCjx7WlJFi"
      },
      "execution_count": null,
      "outputs": []
    },
    {
      "cell_type": "code",
      "source": [
        "a.shape"
      ],
      "metadata": {
        "colab": {
          "base_uri": "https://localhost:8080/"
        },
        "id": "NzGrOLXdlK3x",
        "outputId": "473c3f71-e304-4c6e-cc59-289920d12052"
      },
      "execution_count": null,
      "outputs": [
        {
          "output_type": "execute_result",
          "data": {
            "text/plain": [
              "(4,)"
            ]
          },
          "metadata": {},
          "execution_count": 8
        }
      ]
    },
    {
      "cell_type": "code",
      "source": [
        "b.shape"
      ],
      "metadata": {
        "colab": {
          "base_uri": "https://localhost:8080/"
        },
        "id": "nzTnII4ilP3s",
        "outputId": "4c07c0a5-196f-4dcf-e363-e23e852e7c9d"
      },
      "execution_count": null,
      "outputs": [
        {
          "output_type": "execute_result",
          "data": {
            "text/plain": [
              "(3,)"
            ]
          },
          "metadata": {},
          "execution_count": 9
        }
      ]
    },
    {
      "cell_type": "markdown",
      "source": [
        "**1. Shape Incompatibility**\n",
        "\n",
        "The arrays a and b have different shapes:\n",
        "\n",
        "a has a shape of (4,), meaning it is a 1D array with 4 elements.\n",
        "\n",
        "b has a shape of (3,), meaning it is a 1D array with 3 elements.\n",
        "\n",
        "When trying to perform element-wise operations (like addition) between arrays,\n",
        "\n",
        "NumPy checks if their shapes are compatible. Here, the shapes (4,) and (3,) are not directly compatible for element-wise addition because:\n",
        "\n",
        "They have different lengths in their only dimension (4 vs. 3)."
      ],
      "metadata": {
        "id": "sAtKLF9_lEyt"
      }
    },
    {
      "cell_type": "markdown",
      "source": [
        "**2. What Happens Without Broadcasting?**\n",
        "\n",
        "If you tried to directly add a and b like this:"
      ],
      "metadata": {
        "id": "qSVO9hZ9liNw"
      }
    },
    {
      "cell_type": "code",
      "source": [
        "a+b"
      ],
      "metadata": {
        "colab": {
          "base_uri": "https://localhost:8080/",
          "height": 147
        },
        "id": "fI4-NCNVll0N",
        "outputId": "e47db4c7-0497-4598-ce47-6965035d7b13"
      },
      "execution_count": null,
      "outputs": [
        {
          "output_type": "error",
          "ename": "ValueError",
          "evalue": "operands could not be broadcast together with shapes (4,) (3,) ",
          "traceback": [
            "\u001b[0;31m---------------------------------------------------------------------------\u001b[0m",
            "\u001b[0;31mValueError\u001b[0m                                Traceback (most recent call last)",
            "\u001b[0;32m<ipython-input-10-ca730b97bf8a>\u001b[0m in \u001b[0;36m<cell line: 1>\u001b[0;34m()\u001b[0m\n\u001b[0;32m----> 1\u001b[0;31m \u001b[0ma\u001b[0m\u001b[0;34m+\u001b[0m\u001b[0mb\u001b[0m\u001b[0;34m\u001b[0m\u001b[0;34m\u001b[0m\u001b[0m\n\u001b[0m",
            "\u001b[0;31mValueError\u001b[0m: operands could not be broadcast together with shapes (4,) (3,) "
          ]
        }
      ]
    },
    {
      "cell_type": "markdown",
      "source": [
        "This error tells us that the arrays' shapes don't align, so element-wise addition can't proceed. This demonstrates why broadcasting (or reshaping) is necessary."
      ],
      "metadata": {
        "id": "WYzXzJB7lqhD"
      }
    },
    {
      "cell_type": "markdown",
      "source": [
        "**3. The Role of Broadcasting**\n",
        "\n",
        "Broadcasting automatically expands the smaller array's dimensions so that the element-wise operation can be performed between the two arrays. Instead of repeating the elements manually, broadcasting lets NumPy handle this for us in an efficient way."
      ],
      "metadata": {
        "id": "8FsH_aPnlvFF"
      }
    },
    {
      "cell_type": "code",
      "source": [
        "import numpy as np\n",
        "\n",
        "a = np.array([0.0, 10.0, 20.0, 30.0])\n",
        "b = np.array([0.0, 1.0, 2.0])\n",
        "\n",
        "'''You want to add a and b, but they are not the same shape (4 elements vs. 3 elements). NumPy needs the arrays to have the same shape for element-wise operations.\n",
        "To make this possible, you can use broadcasting to \"stretch\" a or b to a compatible shape.'''\n",
        "\n",
        "print(a[:, np.newaxis] + b)\n",
        "\n",
        "'''When you reshape a using a[:, np.newaxis], you're turning it from a 1D array of shape (4,) into a 2D array of shape (4, 1)\n",
        "Now, b with shape (3,) can be broadcast to match a's new shape, so element-wise addition can proceed.\n",
        "\n",
        "a[:, np.newaxis] + b broadcasts both arrays to shape (4, 3) and performs element-wise addition.'''\n"
      ],
      "metadata": {
        "colab": {
          "base_uri": "https://localhost:8080/"
        },
        "id": "jft0iuxBhObU",
        "outputId": "a8c57f2d-28e0-4046-d820-9de885f1b33d"
      },
      "execution_count": null,
      "outputs": [
        {
          "output_type": "stream",
          "name": "stdout",
          "text": [
            "[[ 0.  1.  2.]\n",
            " [10. 11. 12.]\n",
            " [20. 21. 22.]\n",
            " [30. 31. 32.]]\n"
          ]
        }
      ]
    },
    {
      "cell_type": "code",
      "source": [
        "a"
      ],
      "metadata": {
        "id": "E6ooA3McRl_u",
        "colab": {
          "base_uri": "https://localhost:8080/"
        },
        "outputId": "9ab8d262-b927-4a30-b2a4-5a3aecfb031d"
      },
      "execution_count": null,
      "outputs": [
        {
          "output_type": "execute_result",
          "data": {
            "text/plain": [
              "array([ 0., 10., 20., 30.])"
            ]
          },
          "metadata": {},
          "execution_count": 2
        }
      ]
    },
    {
      "cell_type": "code",
      "source": [
        "a.shape #The original array a = np.array([0.0, 10.0, 20.0, 30.0]) has a shape of (4,). This means it has 4 elements, but it's still 1-dimensional, with no clear row or column structure."
      ],
      "metadata": {
        "id": "x8MtP_s9EqoB",
        "colab": {
          "base_uri": "https://localhost:8080/"
        },
        "outputId": "985dc326-57ca-4dbd-ca9c-e60703ed0cc2"
      },
      "execution_count": null,
      "outputs": [
        {
          "output_type": "execute_result",
          "data": {
            "text/plain": [
              "(4,)"
            ]
          },
          "metadata": {},
          "execution_count": 3
        }
      ]
    },
    {
      "cell_type": "code",
      "source": [
        "a[:, np.newaxis] # By adding this new axis, a becomes a column vector, which is required to perform element-wise operations with b (which remains a 1D row vector)."
      ],
      "metadata": {
        "id": "maS_nslqRCsC",
        "colab": {
          "base_uri": "https://localhost:8080/"
        },
        "outputId": "7238ff7c-92da-4aca-a695-e88f81c9ef40"
      },
      "execution_count": null,
      "outputs": [
        {
          "output_type": "execute_result",
          "data": {
            "text/plain": [
              "array([[ 0.],\n",
              "       [10.],\n",
              "       [20.],\n",
              "       [30.]])"
            ]
          },
          "metadata": {},
          "execution_count": 4
        }
      ]
    },
    {
      "cell_type": "code",
      "source": [
        "a[:, np.newaxis].shape"
      ],
      "metadata": {
        "id": "tcWpTkpTRCor",
        "colab": {
          "base_uri": "https://localhost:8080/"
        },
        "outputId": "e4d77726-b2b0-47ce-8fc3-cbcb00910454"
      },
      "execution_count": null,
      "outputs": [
        {
          "output_type": "execute_result",
          "data": {
            "text/plain": [
              "(4, 1)"
            ]
          },
          "metadata": {},
          "execution_count": 2
        }
      ]
    },
    {
      "cell_type": "code",
      "source": [
        "b"
      ],
      "metadata": {
        "id": "E-QOFGhkRCi8",
        "colab": {
          "base_uri": "https://localhost:8080/"
        },
        "outputId": "7f606df2-f3d6-4115-8644-6a537efa3694"
      },
      "execution_count": null,
      "outputs": [
        {
          "output_type": "execute_result",
          "data": {
            "text/plain": [
              "array([0., 1., 2.])"
            ]
          },
          "metadata": {},
          "execution_count": 3
        }
      ]
    },
    {
      "cell_type": "code",
      "source": [
        "b.shape"
      ],
      "metadata": {
        "id": "fLU_guMSRCf-",
        "colab": {
          "base_uri": "https://localhost:8080/"
        },
        "outputId": "651c6cb5-5759-41d2-f289-93b18907b81e"
      },
      "execution_count": null,
      "outputs": [
        {
          "output_type": "execute_result",
          "data": {
            "text/plain": [
              "(3,)"
            ]
          },
          "metadata": {},
          "execution_count": 4
        }
      ]
    },
    {
      "cell_type": "code",
      "source": [
        "a[:, np.newaxis] + b"
      ],
      "metadata": {
        "colab": {
          "base_uri": "https://localhost:8080/"
        },
        "id": "j9DQGUN9hmxJ",
        "outputId": "67019f53-995d-4519-8338-f01033d1d5b3"
      },
      "execution_count": null,
      "outputs": [
        {
          "output_type": "execute_result",
          "data": {
            "text/plain": [
              "array([[ 0.,  1.,  2.],\n",
              "       [10., 11., 12.],\n",
              "       [20., 21., 22.],\n",
              "       [30., 31., 32.]])"
            ]
          },
          "metadata": {},
          "execution_count": 5
        }
      ]
    },
    {
      "cell_type": "markdown",
      "source": [
        "![image.png](data:image/png;base64,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)"
      ],
      "metadata": {
        "id": "gOqW-fX_CxIh"
      }
    },
    {
      "cell_type": "code",
      "source": [
        "a+b #The column vector a is \"stretched\" across the columns to match the shape (4, 3).\n",
        "#The 1D array b is \"stretched\" down the rows to match the shape (4, 3)."
      ],
      "metadata": {
        "colab": {
          "base_uri": "https://localhost:8080/"
        },
        "id": "10zyKIYy9syM",
        "outputId": "8e0d4edc-1255-4719-cf85-7be342bdd851"
      },
      "execution_count": null,
      "outputs": [
        {
          "output_type": "execute_result",
          "data": {
            "text/plain": [
              "array([[ 0.,  1.,  2.],\n",
              "       [10., 11., 12.],\n",
              "       [20., 21., 22.],\n",
              "       [30., 31., 32.]])"
            ]
          },
          "metadata": {},
          "execution_count": 11
        }
      ]
    },
    {
      "cell_type": "code",
      "source": [
        "arr1 = np.array([1, 2, 3])  # Shape: (3,)\n",
        "arr2 = np.array([[10], [20]])\n",
        "arr1+arr2"
      ],
      "metadata": {
        "id": "R2gZASOMwQTD",
        "outputId": "7a327289-8829-4f1d-a159-854948e5099d",
        "colab": {
          "base_uri": "https://localhost:8080/"
        }
      },
      "execution_count": null,
      "outputs": [
        {
          "output_type": "execute_result",
          "data": {
            "text/plain": [
              "array([[11, 12, 13],\n",
              "       [21, 22, 23]])"
            ]
          },
          "metadata": {},
          "execution_count": 16
        }
      ]
    },
    {
      "cell_type": "markdown",
      "source": [
        "##**Why only reshape a and not b?**\n",
        "\n",
        "##**Broadcasting Rules:**\n",
        "**Broadcasting follows a set of rules when dealing with arrays of different shapes:**\n",
        "\n",
        "1.If the arrays have different numbers of dimensions, the smaller array is implicitly reshaped by adding new axes on the left to match the number of dimensions of the larger array.\n",
        "\n",
        "2.NumPy compares the shapes of the two arrays element by element, starting from the last dimension. If the sizes are the same, or one of them is 1, they are considered compatible.\n",
        "\n",
        "**In your case:**\n",
        "\n",
        "a[:, np.newaxis] has shape (4, 1) → 2D array (4 rows, 1 column)\n",
        "\n",
        "b has shape (3,) → 1D array (3 elements)\n",
        "\n",
        "**To make the shapes compatible for element-wise addition:**\n",
        "\n",
        "a[:, np.newaxis] is explicitly reshaped to (4, 1).\n",
        "\n",
        "b remains as a 1D array, but NumPy automatically treats it as a 2D row vector (1, 3) through implicit broadcasting.\n",
        "\n",
        "**The broadcasting expands both arrays:**\n",
        "\n",
        "a[:, np.newaxis] (with shape (4, 1)) is stretched horizontally to match the shape (4, 3).\n",
        "\n",
        "b (with shape (3,)) is treated as (1, 3) and stretched vertically to match the shape (4, 3).\n",
        "\n",
        "Since b is already in a 1D shape that can be broadcast to match a's shape, there's no need to explicitly reshape it like we did with a."
      ],
      "metadata": {
        "id": "z6L43Jdkeg9k"
      }
    },
    {
      "cell_type": "markdown",
      "source": [
        "#Numpy and Random data"
      ],
      "metadata": {
        "id": "lNUUu2lIHGhP"
      }
    },
    {
      "cell_type": "markdown",
      "source": [
        "numpy.random.random() is one of the function for doing random sampling in numpy. It returns an array of specified shape and fills it with random floats in the half-open interval [0.0, 1.0)."
      ],
      "metadata": {
        "id": "E26xwDAqHQOS"
      }
    },
    {
      "cell_type": "markdown",
      "source": [
        "**Syntax : numpy.random.random(size=None)**\n",
        "\n",
        "Parameters :\n",
        "\n",
        "size : [int or tuple of ints, optional] Output shape. If the given shape is, e.g., (m, n, k), then m * n * k samples are drawn. Default is None, in which case a single value is returned.\n",
        "\n",
        "Return : Array of random floats in the interval [0.0, 1.0). or a single such random float if size not provided."
      ],
      "metadata": {
        "id": "gzq4X6jNLNIw"
      }
    },
    {
      "cell_type": "code",
      "source": [
        "import numpy as np\n",
        "\n",
        "# Generate a 1D array of 3 random floats\n",
        "random_array = np.random.random(size=3)\n",
        "\n",
        "# Output the random array\n",
        "print(\"Output 1D Array filled with random floats: \", random_array)\n",
        "\n",
        "'''size=3 generates an array with 3 random floats between 0 and 1.\n",
        "np.random.random() produces random values uniformly distributed between 0 and 1.'''"
      ],
      "metadata": {
        "id": "vrqFMr4zegpu",
        "colab": {
          "base_uri": "https://localhost:8080/"
        },
        "outputId": "9ab43c18-7c0b-41fe-9f2e-f80d13cd35e2"
      },
      "execution_count": null,
      "outputs": [
        {
          "output_type": "stream",
          "name": "stdout",
          "text": [
            "Output 1D Array filled with random floats:  [0.93763242 0.24134374 0.95933971]\n"
          ]
        }
      ]
    },
    {
      "cell_type": "code",
      "source": [
        "import numpy as np\n",
        "\n",
        "# Generate a 2D array of random floats with shape (2, 4)\n",
        "random_2d_array = np.random.random(size=(2, 4))\n",
        "\n",
        "# Output the random 2D array\n",
        "print(\"Output 2D Array filled with random floats: \\n\", random_2d_array)\n",
        "'''size=(2, 4) generates a 2D array with 2 rows and 4 columns.\n",
        "np.random.random() produces random values uniformly distributed between 0 and 1.'''\n"
      ],
      "metadata": {
        "id": "rcB8MiCaegl9",
        "colab": {
          "base_uri": "https://localhost:8080/"
        },
        "outputId": "a7f8cc6d-fdfb-4f59-c394-12bc068cf7c1"
      },
      "execution_count": null,
      "outputs": [
        {
          "output_type": "stream",
          "name": "stdout",
          "text": [
            "Output 2D Array filled with random floats: \n",
            " [[0.64574931 0.89127657 0.94673898 0.30725896]\n",
            " [0.31875039 0.31723256 0.14864568 0.41367829]]\n"
          ]
        }
      ]
    },
    {
      "cell_type": "code",
      "source": [
        "import numpy as np\n",
        "\n",
        "# Generate a 3D array of random floats with shape (2, 3, 2)\n",
        "random_3d_array = np.random.random(size=(2, 3, 2))\n",
        "\n",
        "# Output the random 3D array\n",
        "print(\"Output 3D Array filled with random floats: \\n\", random_3d_array)\n",
        "\n",
        "'''size=(2, 3, 2) generates a 3D array with 2 matrices, each having 3 rows and 2 columns.\n",
        "np.random.random() produces random values uniformly distributed between 0 and 1.'''\n"
      ],
      "metadata": {
        "id": "Kk-py3gyegi2",
        "colab": {
          "base_uri": "https://localhost:8080/"
        },
        "outputId": "ac3a625f-b614-4191-8c6d-1af80b3580b2"
      },
      "execution_count": null,
      "outputs": [
        {
          "output_type": "stream",
          "name": "stdout",
          "text": [
            "Output 3D Array filled with random floats: \n",
            " [[[0.13137999 0.32302271]\n",
            "  [0.16444001 0.50225111]\n",
            "  [0.8946398  0.04882333]]\n",
            "\n",
            " [[0.2307167  0.09371253]\n",
            "  [0.3095844  0.77413488]\n",
            "  [0.00441587 0.41139279]]]\n"
          ]
        }
      ]
    },
    {
      "cell_type": "code",
      "source": [
        "np.random.random()"
      ],
      "metadata": {
        "id": "jcpbz7a3egfz",
        "colab": {
          "base_uri": "https://localhost:8080/"
        },
        "outputId": "773dc3ab-8b6c-4adb-8bc5-d0fe88f73bbd"
      },
      "execution_count": null,
      "outputs": [
        {
          "output_type": "execute_result",
          "data": {
            "text/plain": [
              "0.8588725847851874"
            ]
          },
          "metadata": {},
          "execution_count": 5
        }
      ]
    },
    {
      "cell_type": "markdown",
      "source": [
        "#numpy.random.Randint()"
      ],
      "metadata": {
        "id": "zKfIl4--QDf3"
      }
    },
    {
      "cell_type": "markdown",
      "source": [
        "To generate a 1D array filled with random integers using the numpy.random.randint() function, you can specify the range of integers and the size of the array. Here's how you can do it:"
      ],
      "metadata": {
        "id": "Bf6_kubJPsNw"
      }
    },
    {
      "cell_type": "markdown",
      "source": [
        "Syntax : numpy.random.randint(low, high=None, size=None, dtype=’l’)\n",
        "\n",
        "Parameters :\n",
        "\n",
        "low : [int] Lowest (signed) integer to be drawn from the distribution.But, it works as a highest integer in the sample if high=None.\n",
        "\n",
        "high : [int, optional] Largest (signed) integer to be drawn from the distribution.\n",
        "\n",
        "size : [int or tuple of ints, optional] Output shape. If the given shape is, e.g., (m, n, k), then m * n * k samples are drawn. Default is None, in which case a single value is returned.\n",
        "\n",
        "dtype : [optional] Desired output data-type.\n",
        "\n",
        "Return : Array of random integers in the interval [low, high) or a single such random int if size not provided."
      ],
      "metadata": {
        "id": "hhvaCBHZSAKE"
      }
    },
    {
      "cell_type": "code",
      "source": [
        "import numpy as np\n",
        "\n",
        "# Generate a 1D array of random integers (0 or 1) with size 5\n",
        "random_int_array = np.random.randint(0, 2, size=5)\n",
        "\n",
        "# Output the random 1D array\n",
        "print(\"Output 1D Array filled with random integers: \", random_int_array)\n"
      ],
      "metadata": {
        "colab": {
          "base_uri": "https://localhost:8080/"
        },
        "id": "ZjzvgCBPPt0R",
        "outputId": "4712d907-f6c6-4322-babc-2696d018f228"
      },
      "execution_count": null,
      "outputs": [
        {
          "output_type": "stream",
          "name": "stdout",
          "text": [
            "Output 1D Array filled with random integers:  [0 1 1 0 1]\n"
          ]
        }
      ]
    },
    {
      "cell_type": "code",
      "source": [
        "import numpy as np\n",
        "\n",
        "# Generate a 2D array of random integers between 0 and 4, with shape (2, 3)\n",
        "random_2d_int_array = np.random.randint(0, 4, size=(2, 3))\n",
        "\n",
        "# Output the random 2D array\n",
        "print(\"Output 2D Array filled with random integers: \\n\", random_2d_int_array)\n"
      ],
      "metadata": {
        "colab": {
          "base_uri": "https://localhost:8080/"
        },
        "id": "g00gq5fZPtxX",
        "outputId": "c79a4a69-af86-4745-ec97-81667082b31c"
      },
      "execution_count": null,
      "outputs": [
        {
          "output_type": "stream",
          "name": "stdout",
          "text": [
            "Output 2D Array filled with random integers: \n",
            " [[1 0 2]\n",
            " [2 1 0]]\n"
          ]
        }
      ]
    },
    {
      "cell_type": "code",
      "source": [
        "import numpy as np\n",
        "\n",
        "# Generate a 3D array of random integers between 0 and 10, with shape (2, 3, 4)\n",
        "random_3d_int_array = np.random.randint(0, 10, size=(2, 3, 4))\n",
        "\n",
        "# Output the random 3D array\n",
        "print(\"Output 3D Array filled with random integers: \\n\", random_3d_int_array)\n"
      ],
      "metadata": {
        "colab": {
          "base_uri": "https://localhost:8080/"
        },
        "id": "TMqPQDAFPtvP",
        "outputId": "1979772d-83dd-4fb6-a81a-f495cb54ad7f"
      },
      "execution_count": null,
      "outputs": [
        {
          "output_type": "stream",
          "name": "stdout",
          "text": [
            "Output 3D Array filled with random integers: \n",
            " [[[2 7 1 9]\n",
            "  [1 2 7 7]\n",
            "  [1 0 2 4]]\n",
            "\n",
            " [[2 0 2 6]\n",
            "  [4 4 5 6]\n",
            "  [3 6 4 0]]]\n"
          ]
        }
      ]
    },
    {
      "cell_type": "markdown",
      "source": [
        "#Working with Images"
      ],
      "metadata": {
        "id": "ugFa-eRfTg05"
      }
    },
    {
      "cell_type": "markdown",
      "source": [
        "###Understanding Image Representation as Arrays\n",
        "\n",
        "**RGB Color Code:**\n",
        "\n",
        "In an RGB image, each pixel is represented by three values: Red, Green, and Blue.\n",
        "\n",
        "Each of these values ranges from 0 to 255, representing the intensity of the respective color channel.\n",
        "\n",
        "**NumPy Array Dimensions:**\n",
        "\n",
        "2D Grayscale Image: For a grayscale image, each pixel has a single value representing its intensity. This is a 2D array with dimensions (height, width).\n",
        "\n",
        "3D RGB Image: For an RGB image, each pixel is represented by three values (R, G, B). This is a 3D array with dimensions (height, width, 3), where:\n",
        "The first two dimensions represent the image’s height and width (i.e., the pixel positions).\n",
        "\n",
        "The third dimension represents the color channels (R, G, B)."
      ],
      "metadata": {
        "id": "2OCttAqMnABU"
      }
    },
    {
      "cell_type": "code",
      "source": [
        "import numpy as np\n",
        "\n",
        "# Create a 3x3 RGB image with specific colors\n",
        "array = np.array([\n",
        "    [[255, 0, 0],   # Red\n",
        "     [0, 255, 0],   # Green\n",
        "     [0, 0, 255]],  # Blue\n",
        "\n",
        "    [[255, 255, 0], # Yellow\n",
        "     [0, 255, 255], # Cyan\n",
        "     [255, 0, 255]],# Magenta\n",
        "\n",
        "    [[128, 128, 128], # Gray\n",
        "     [64, 64, 64],    # Dark Gray\n",
        "     [192, 192, 192]] # Light Gray\n",
        "])\n"
      ],
      "metadata": {
        "id": "tx2Reg7Tm_Vf"
      },
      "execution_count": null,
      "outputs": []
    },
    {
      "cell_type": "markdown",
      "source": [
        "**Breakdown of the Array**\n",
        "\n",
        "Shape: (3, 3, 3)\n",
        "\n",
        "The first 3 corresponds to the height (rows).\n",
        "\n",
        "The second 3 corresponds to the width (columns).\n",
        "\n",
        "The third 3 corresponds to the RGB color channels."
      ],
      "metadata": {
        "id": "lDjLnu-zpVbH"
      }
    },
    {
      "cell_type": "markdown",
      "source": [
        "Let us see how to create a white image using NumPy and cv2. A white image has all its pixels as 255.\n",
        "\n",
        "**Method 1: Using np.full() method**"
      ],
      "metadata": {
        "id": "3-xVLt7hTsDj"
      }
    },
    {
      "cell_type": "code",
      "source": [
        "import numpy as np\n",
        "import cv2\n",
        "\n",
        "# Create a white image of size 400x400 with 3 color channels (RGB)\n",
        "white_image = np.full((400, 400, 3), 255, dtype=np.uint8)\n",
        "\n",
        "cv2.imshow('White Image', white_image)\n",
        "cv2.waitKey(0)\n",
        "cv2.destroyAllWindows()"
      ],
      "metadata": {
        "colab": {
          "base_uri": "https://localhost:8080/",
          "height": 437
        },
        "id": "ufaG-xaPimvh",
        "outputId": "17bf88fc-0317-430b-e0fd-20013556b419"
      },
      "execution_count": 13,
      "outputs": [
        {
          "output_type": "error",
          "ename": "DisabledFunctionError",
          "evalue": "cv2.imshow() is disabled in Colab, because it causes Jupyter sessions\nto crash; see https://github.com/jupyter/notebook/issues/3935.\nAs a substitution, consider using\n  from google.colab.patches import cv2_imshow\n",
          "traceback": [
            "\u001b[0;31m---------------------------------------------------------------------------\u001b[0m",
            "\u001b[0;31mDisabledFunctionError\u001b[0m                     Traceback (most recent call last)",
            "\u001b[0;32m<ipython-input-13-06af0a65ad45>\u001b[0m in \u001b[0;36m<cell line: 7>\u001b[0;34m()\u001b[0m\n\u001b[1;32m      5\u001b[0m \u001b[0mwhite_image\u001b[0m \u001b[0;34m=\u001b[0m \u001b[0mnp\u001b[0m\u001b[0;34m.\u001b[0m\u001b[0mfull\u001b[0m\u001b[0;34m(\u001b[0m\u001b[0;34m(\u001b[0m\u001b[0;36m400\u001b[0m\u001b[0;34m,\u001b[0m \u001b[0;36m400\u001b[0m\u001b[0;34m,\u001b[0m \u001b[0;36m3\u001b[0m\u001b[0;34m)\u001b[0m\u001b[0;34m,\u001b[0m \u001b[0;36m255\u001b[0m\u001b[0;34m,\u001b[0m \u001b[0mdtype\u001b[0m\u001b[0;34m=\u001b[0m\u001b[0mnp\u001b[0m\u001b[0;34m.\u001b[0m\u001b[0muint8\u001b[0m\u001b[0;34m)\u001b[0m\u001b[0;34m\u001b[0m\u001b[0;34m\u001b[0m\u001b[0m\n\u001b[1;32m      6\u001b[0m \u001b[0;34m\u001b[0m\u001b[0m\n\u001b[0;32m----> 7\u001b[0;31m \u001b[0mcv2\u001b[0m\u001b[0;34m.\u001b[0m\u001b[0mimshow\u001b[0m\u001b[0;34m(\u001b[0m\u001b[0;34m'White Image'\u001b[0m\u001b[0;34m,\u001b[0m \u001b[0mwhite_image\u001b[0m\u001b[0;34m)\u001b[0m\u001b[0;34m\u001b[0m\u001b[0;34m\u001b[0m\u001b[0m\n\u001b[0m\u001b[1;32m      8\u001b[0m \u001b[0mcv2\u001b[0m\u001b[0;34m.\u001b[0m\u001b[0mwaitKey\u001b[0m\u001b[0;34m(\u001b[0m\u001b[0;36m0\u001b[0m\u001b[0;34m)\u001b[0m\u001b[0;34m\u001b[0m\u001b[0;34m\u001b[0m\u001b[0m\n\u001b[1;32m      9\u001b[0m \u001b[0mcv2\u001b[0m\u001b[0;34m.\u001b[0m\u001b[0mdestroyAllWindows\u001b[0m\u001b[0;34m(\u001b[0m\u001b[0;34m)\u001b[0m\u001b[0;34m\u001b[0m\u001b[0;34m\u001b[0m\u001b[0m\n",
            "\u001b[0;32m/usr/local/lib/python3.10/dist-packages/google/colab/_import_hooks/_cv2.py\u001b[0m in \u001b[0;36mwrapped\u001b[0;34m(*args, **kwargs)\u001b[0m\n\u001b[1;32m     46\u001b[0m   \u001b[0;32mdef\u001b[0m \u001b[0mwrapped\u001b[0m\u001b[0;34m(\u001b[0m\u001b[0;34m*\u001b[0m\u001b[0margs\u001b[0m\u001b[0;34m,\u001b[0m \u001b[0;34m**\u001b[0m\u001b[0mkwargs\u001b[0m\u001b[0;34m)\u001b[0m\u001b[0;34m:\u001b[0m\u001b[0;34m\u001b[0m\u001b[0;34m\u001b[0m\u001b[0m\n\u001b[1;32m     47\u001b[0m     \u001b[0;32mif\u001b[0m \u001b[0;32mnot\u001b[0m \u001b[0mos\u001b[0m\u001b[0;34m.\u001b[0m\u001b[0menviron\u001b[0m\u001b[0;34m.\u001b[0m\u001b[0mget\u001b[0m\u001b[0;34m(\u001b[0m\u001b[0menv_var\u001b[0m\u001b[0;34m,\u001b[0m \u001b[0;32mFalse\u001b[0m\u001b[0;34m)\u001b[0m\u001b[0;34m:\u001b[0m\u001b[0;34m\u001b[0m\u001b[0;34m\u001b[0m\u001b[0m\n\u001b[0;32m---> 48\u001b[0;31m       \u001b[0;32mraise\u001b[0m \u001b[0mDisabledFunctionError\u001b[0m\u001b[0;34m(\u001b[0m\u001b[0mmessage\u001b[0m\u001b[0;34m,\u001b[0m \u001b[0mname\u001b[0m \u001b[0;32mor\u001b[0m \u001b[0mfunc\u001b[0m\u001b[0;34m.\u001b[0m\u001b[0m__name__\u001b[0m\u001b[0;34m)\u001b[0m\u001b[0;34m\u001b[0m\u001b[0;34m\u001b[0m\u001b[0m\n\u001b[0m\u001b[1;32m     49\u001b[0m     \u001b[0;32mreturn\u001b[0m \u001b[0mfunc\u001b[0m\u001b[0;34m(\u001b[0m\u001b[0;34m*\u001b[0m\u001b[0margs\u001b[0m\u001b[0;34m,\u001b[0m \u001b[0;34m**\u001b[0m\u001b[0mkwargs\u001b[0m\u001b[0;34m)\u001b[0m\u001b[0;34m\u001b[0m\u001b[0;34m\u001b[0m\u001b[0m\n\u001b[1;32m     50\u001b[0m \u001b[0;34m\u001b[0m\u001b[0m\n",
            "\u001b[0;31mDisabledFunctionError\u001b[0m: cv2.imshow() is disabled in Colab, because it causes Jupyter sessions\nto crash; see https://github.com/jupyter/notebook/issues/3935.\nAs a substitution, consider using\n  from google.colab.patches import cv2_imshow\n"
          ],
          "errorDetails": {
            "actions": [
              {
                "action": "open_snippet",
                "actionText": "Search Snippets for cv2.imshow",
                "snippetFilter": "cv2.imshow"
              }
            ]
          }
        }
      ]
    },
    {
      "cell_type": "code",
      "source": [
        "import numpy as np\n",
        "import cv2\n",
        "from google.colab.patches import cv2_imshow\n",
        "\n",
        "# Create a white image of size 400x400 with 3 color channels (RGB)\n",
        "# np.full() fills the array with the value 255 (for white)\n",
        "white_image = np.full((400, 400, 3), 255, dtype=np.uint8)\n",
        "\n",
        "# Display the white image using OpenCV\n",
        "#cv2.imshow('White Image', white_image)\n",
        "cv2_imshow(white_image)\n",
        "#cv2.waitKey(0)\n",
        "#cv2.destroyAllWindows()\n",
        "# No need for cv2.waitKey() and cv2.destroyAllWindows() in Colab"
      ],
      "metadata": {
        "colab": {
          "base_uri": "https://localhost:8080/",
          "height": 417
        },
        "id": "mmWNMbc2PtsE",
        "outputId": "7a12a5a0-51b4-445c-939f-f1eea8e0f32b"
      },
      "execution_count": 14,
      "outputs": [
        {
          "output_type": "display_data",
          "data": {
            "text/plain": [
              "<PIL.Image.Image image mode=RGB size=400x400>"
            ],
            "image/png": "[encoded data removed]",
            "image/jpeg": "[encoded data removed]"
          },
          "metadata": {}
        }
      ]
    },
    {
      "cell_type": "markdown",
      "source": [
        "**Explanation:**\n",
        "\n",
        "np.full((400, 400, 3), 255, dtype=np.uint8) creates a 400x400 image with 3 channels (for RGB), and every pixel is set to 255 (which is white in the RGB color space).\n",
        "\n",
        "cv2.imshow() displays the white image.\n",
        "\n",
        "cv2.waitKey(0) waits for a key press before closing the image window.\n",
        "\n",
        "cv2.destroyAllWindows() closes the window showing the image."
      ],
      "metadata": {
        "id": "8_c4K5PSXnho"
      }
    },
    {
      "cell_type": "markdown",
      "source": [
        "**Method 2: By creating an array using np.zeroes()**"
      ],
      "metadata": {
        "id": "4itw_WD9XDBs"
      }
    },
    {
      "cell_type": "code",
      "source": [
        "# importing the modules\n",
        "import numpy as np\n",
        "import cv2\n",
        "\n",
        "# creating array using np.zeroes()\n",
        "array = np.zeros((400, 400, 3),\n",
        "\t\t\t\tdtype = np.uint8)\n",
        "\n",
        "# setting RGB color values as 255,255,255\n",
        "array[:, :] = [255, 255, 255]\n",
        "\n",
        "# displaying the image\n",
        "cv2_imshow(array)\n"
      ],
      "metadata": {
        "colab": {
          "base_uri": "https://localhost:8080/",
          "height": 417
        },
        "id": "Ze5EnM7FPtpD",
        "outputId": "c2d9de92-a88e-4997-9a2b-325655789d97"
      },
      "execution_count": 3,
      "outputs": [
        {
          "output_type": "display_data",
          "data": {
            "text/plain": [
              "<PIL.Image.Image image mode=RGB size=400x400>"
            ],
            "image/png": "[encoded data removed]",
            "image/jpeg": "[encoded data removed]"
          },
          "metadata": {}
        }
      ]
    },
    {
      "cell_type": "markdown",
      "source": [
        "**PIL**, or Python Imaging Library, is a library in Python that provides extensive file format support, an efficient internal representation, and powerful image processing capabilities. It allows Python to work with image files and perform tasks such as image loading, manipulation, and saving. However, PIL itself is no longer maintained. Instead, it has been succeeded by Pillow, a modern and actively maintained fork of PIL."
      ],
      "metadata": {
        "id": "iQ4T31ZhcpDZ"
      }
    },
    {
      "cell_type": "markdown",
      "source": [
        "**Pillow helps you do things like:**\n",
        "\n",
        "1.Open an image file (like a photo or picture).\n",
        "\n",
        "2.Edit the image (resize it, change colors, etc.).\n",
        "\n",
        "3.Save the edited image to your computer.\n",
        "\n",
        "Think of it like an image editor but controlled through code!"
      ],
      "metadata": {
        "id": "_q3k3G5Lc9S9"
      }
    },
    {
      "cell_type": "markdown",
      "source": [
        "**Why Use Pillow?**\n",
        "\n",
        "***Easy Image Handling:*** You can open, save, and manipulate images in many formats like JPEG, PNG, GIF, etc.\n",
        "\n",
        "**Powerful Editing:** You can resize, crop, change colors, apply filters (like blur or sharpen), and much more.\n",
        "\n",
        "**Draw on Images:** You can even draw shapes or add text to images."
      ],
      "metadata": {
        "id": "FrxyM3nqdG72"
      }
    },
    {
      "cell_type": "markdown",
      "source": [
        "**1. Install Pillow**\n",
        "\n",
        "Before we can use Pillow, we need to install it. You can use this command:"
      ],
      "metadata": {
        "id": "ZW4KP2Z3dUfG"
      }
    },
    {
      "cell_type": "code",
      "source": [
        "pip install pillow"
      ],
      "metadata": {
        "id": "qLCAKrBZdX1D"
      },
      "execution_count": null,
      "outputs": []
    },
    {
      "cell_type": "markdown",
      "source": [
        "**2. Open an Image**\n",
        "\n",
        "Let’s start by opening an image. This is like loading a picture from your computer so you can see it and work with it."
      ],
      "metadata": {
        "id": "1928Y3sNdag6"
      }
    },
    {
      "cell_type": "code",
      "source": [
        "from PIL import Image\n",
        "\n",
        "# Open an image file\n",
        "image = Image.open(\"Sample.png\")  # Replace with your image path\n",
        "image.show()  # This will show the image in a window\n"
      ],
      "metadata": {
        "id": "QlEJlyP7deyY"
      },
      "execution_count": 15,
      "outputs": []
    },
    {
      "cell_type": "markdown",
      "source": [
        "**3. Resize an Image**\n",
        "\n",
        "You can make an image smaller or larger by resizing it. This is like shrinking or enlarging a photo in an image editor."
      ],
      "metadata": {
        "id": "ql_GPwMZdi6W"
      }
    },
    {
      "cell_type": "code",
      "source": [
        "# Resize the image to 200x200 pixels\n",
        "resized_image = image.resize((200, 200))\n",
        "resized_image.show()\n"
      ],
      "metadata": {
        "id": "FQ4O1Zd7dmjb"
      },
      "execution_count": 16,
      "outputs": []
    },
    {
      "cell_type": "markdown",
      "source": [
        "**4. Save the Image**\n",
        "\n",
        "After editing the image, you can save it as a new file. This is like clicking \"Save As\" in an image editor."
      ],
      "metadata": {
        "id": "cJoLPGNZduVb"
      }
    },
    {
      "cell_type": "code",
      "source": [
        "resized_image.save(\"resized_image.png\") #This saves the resized image as resized_image.png on your computer."
      ],
      "metadata": {
        "id": "NvNngwlbdxfC"
      },
      "execution_count": 17,
      "outputs": []
    },
    {
      "cell_type": "markdown",
      "source": [
        "**5. Convert to Grayscale**\n",
        "\n",
        "You can also change the image to black and white (grayscale). This is like applying a filter in a photo app."
      ],
      "metadata": {
        "id": "MRMuzX3td7Hz"
      }
    },
    {
      "cell_type": "code",
      "source": [
        "gray_image = image.convert(\"L\")  # 'L' stands for grayscale\n",
        "gray_image.show()\n"
      ],
      "metadata": {
        "id": "oafzeQdCd-TG"
      },
      "execution_count": 18,
      "outputs": []
    },
    {
      "cell_type": "markdown",
      "source": [
        "**6. Crop an Image**\n",
        "\n",
        "Cropping means cutting out a specific part of the image, just like cropping a photo on your phone."
      ],
      "metadata": {
        "id": "uBQ2l4K5eAZV"
      }
    },
    {
      "cell_type": "code",
      "source": [
        "# Crop a section of the image (left, upper, right, lower)\n",
        "cropped_image = image.crop((100, 100, 400, 400))\n",
        "cropped_image.show()\n",
        "'''This code crops the image from coordinates (100, 100) to (400, 400).'''"
      ],
      "metadata": {
        "id": "8PJBwjzSeDqA",
        "colab": {
          "base_uri": "https://localhost:8080/",
          "height": 36
        },
        "outputId": "6e5a97bb-482d-43b9-ca6a-e3122a2b075d"
      },
      "execution_count": 19,
      "outputs": [
        {
          "output_type": "execute_result",
          "data": {
            "text/plain": [
              "'This code crops the image from coordinates (100, 100) to (400, 400).'"
            ],
            "application/vnd.google.colaboratory.intrinsic+json": {
              "type": "string"
            }
          },
          "metadata": {},
          "execution_count": 19
        }
      ]
    },
    {
      "cell_type": "markdown",
      "source": [
        "#Convert a NumPy array to an image"
      ],
      "metadata": {
        "id": "xmTnTCbIsQCl"
      }
    },
    {
      "cell_type": "markdown",
      "source": [
        "**Steps:**\n",
        "\n",
        "Create a NumPy array: This array represents the pixel values of an image.\n",
        "\n",
        "Reshape the array: Depending on the type of image (grayscale or color), we need to reshape the array into a proper shape.\n",
        "\n",
        "For a grayscale image: shape should be (height, width)\n",
        "\n",
        "For an RGB image: shape should be (height, width, 3) for the three color channels (Red, Green, Blue).\n",
        "\n",
        "Convert the NumPy array to an image: Use PIL.Image.fromarray() to create an image from the array.\n",
        "\n",
        "Save the image: Finally, save the image in the desired format (e.g., .png, .jpg)."
      ],
      "metadata": {
        "id": "OV79rsUvsGD-"
      }
    },
    {
      "cell_type": "code",
      "source": [
        "import numpy as np\n",
        "from PIL import Image\n",
        "\n",
        "# Step 1: Create a NumPy array with pixel values\n",
        "# Creating a 3x3 RGB image where each pixel has random RGB values between 0-255\n",
        "array = np.random.randint(0, 255, (3, 3, 3), dtype=np.uint8)\n",
        "\n",
        "# Step 2: Reshape the array if necessary (in this case, the shape is already suitable)\n",
        "\n",
        "# Step 3: Convert the NumPy array into an image object using PIL\n",
        "image = Image.fromarray(array)\n",
        "\n",
        "# Step 4: Save the image to a file\n",
        "image.save(\"random_image.png\")\n",
        "\n",
        "# Display the created image using Pillow (Optional)\n",
        "image.show()"
      ],
      "metadata": {
        "id": "vu5EGr49uqhb"
      },
      "execution_count": 20,
      "outputs": []
    },
    {
      "cell_type": "markdown",
      "source": [
        "you are running the code in an environment where you might not have direct access to view files or images, such as a text-based or command-line interface, or a specific environment like a Jupyter notebook or Google Colab.\n",
        "\n",
        "Here are a few ways to handle image visualization in different environments:\n",
        "\n",
        "**1. Local Environment**\n",
        "\n",
        "If you are running the code locally on your computer, the image should be saved in your working directory. You can open it using any image viewer. Ensure you are running the code correctly and check the directory where the code is executed for the saved file.\n",
        "\n",
        "**2. Jupyter Notebook**\n",
        "\n",
        "In a Jupyter notebook, you can display images directly using the IPython display module. Here's how to modify the code to display the image in a Jupyter notebook:"
      ],
      "metadata": {
        "id": "rb2RwnsFus6Z"
      }
    },
    {
      "cell_type": "code",
      "source": [
        "import numpy as np\n",
        "from PIL import Image\n",
        "from IPython.display import display\n",
        "\n",
        "# Create a NumPy array with random RGB values\n",
        "array = np.random.randint(0, 255, (3, 3, 3), dtype=np.uint8)\n",
        "\n",
        "# Convert the NumPy array into an image object using PIL\n",
        "image = Image.fromarray(array)\n",
        "\n",
        "# Save the image to a file\n",
        "image.save(\"random_image.png\")\n",
        "\n",
        "# Display the image within the notebook\n",
        "display(image)\n"
      ],
      "metadata": {
        "colab": {
          "base_uri": "https://localhost:8080/",
          "height": 34
        },
        "id": "St-22sDqvAKp",
        "outputId": "f85feaf2-25a0-4bc1-c3de-2aee5f468149"
      },
      "execution_count": null,
      "outputs": [
        {
          "output_type": "display_data",
          "data": {
            "text/plain": [
              "<PIL.Image.Image image mode=RGB size=3x3>"
            ],
            "image/png": "[encoded data removed]"
          },
          "metadata": {}
        }
      ]
    },
    {
      "cell_type": "markdown",
      "source": [
        "**3. Google Colab**\n",
        "\n",
        "In Google Colab, you should use cv2_imshow() from the google.colab.patches module, but you should only pass the image without a window name. Also, ensure that cv2_imshow() is used correctly:"
      ],
      "metadata": {
        "id": "t7rBJOIfvFQk"
      }
    },
    {
      "cell_type": "code",
      "source": [
        "import numpy as np\n",
        "from PIL import Image\n",
        "\n",
        "# Step 1: Create a NumPy array with pixel values\n",
        "# Creating a 3x3 RGB image where each pixel has random RGB values between 0-255\n",
        "array = np.random.randint(0, 255, (3, 3, 3), dtype=np.uint8)\n",
        "\n",
        "# Step 2: Reshape the array if necessary (in this case, the shape is already suitable)\n",
        "\n",
        "# Step 3: Convert the NumPy array into an image object using PIL\n",
        "image = Image.fromarray(array)\n",
        "\n",
        "# Step 4: Save the image to a file\n",
        "image.save(\"random_image.png\")\n",
        "\n",
        "# Display the created image using Pillow (Optional)\n",
        "image.show()\n",
        "\n",
        "# Alternatively, use cv2_imshow to display the image\n",
        "import cv2\n",
        "image_cv = cv2.cvtColor(np.array(image), cv2.COLOR_RGB2BGR)  # Convert PIL to OpenCV format\n",
        "cv2_imshow(image_cv)"
      ],
      "metadata": {
        "colab": {
          "base_uri": "https://localhost:8080/",
          "height": 34
        },
        "id": "WCKeYrDwue4q",
        "outputId": "4358bc2b-924c-4999-fa76-89df5183bb89"
      },
      "execution_count": 7,
      "outputs": [
        {
          "output_type": "display_data",
          "data": {
            "text/plain": [
              "<PIL.Image.Image image mode=RGB size=3x3>"
            ],
            "image/png": "[encoded data removed]",
            "image/jpeg": "[encoded data removed]"
          },
          "metadata": {}
        }
      ]
    },
    {
      "cell_type": "markdown",
      "source": [
        "OpenCV uses BGR format by default.\n",
        "\n",
        "PIL and many other libraries use RGB format by default.\n",
        "\n",
        "Conversions between BGR and RGB are necessary to ensure colors are displayed\n",
        "correctly when switching between OpenCV and other libraries."
      ],
      "metadata": {
        "id": "s7d6CrUpgA2A"
      }
    },
    {
      "cell_type": "code",
      "source": [
        "import numpy as np\n",
        "from PIL import Image\n",
        "\n",
        "# Step 1: Create a NumPy array with pixel values\n",
        "# Creating a 3x3 RGB image where each pixel has random RGB values between 0-255\n",
        "array = np.random.randint(0, 255, (300, 300, 3), dtype=np.uint8)\n",
        "\n",
        "# Step 2: Reshape the array if necessary (in this case, the shape is already suitable)\n",
        "\n",
        "# Step 3: Convert the NumPy array into an image object using PIL\n",
        "image = Image.fromarray(array)\n",
        "\n",
        "# Step 4: Save the image to a file\n",
        "image.save(\"random_image.png\")\n",
        "\n",
        "# Display the created image using Pillow (Optional)\n",
        "image.show()\n",
        "\n",
        "# Alternatively, use cv2_imshow to display the image\n",
        "import cv2\n",
        "image_cv = cv2.cvtColor(np.array(image), cv2.COLOR_RGB2BGR)  # Convert PIL to OpenCV format\n",
        "cv2_imshow(image_cv)\n"
      ],
      "metadata": {
        "colab": {
          "base_uri": "https://localhost:8080/",
          "height": 317
        },
        "id": "Bto0A5ufsTdW",
        "outputId": "5be49622-f7ed-461e-b3de-79e972bbb5fb"
      },
      "execution_count": null,
      "outputs": [
        {
          "output_type": "display_data",
          "data": {
            "text/plain": [
              "<PIL.Image.Image image mode=RGB size=300x300>"
            ],
            "image/png": "[encoded data removed]"
          },
          "metadata": {}
        }
      ]
    },
    {
      "cell_type": "markdown",
      "source": [
        "#How to Convert images to NumPy array?"
      ],
      "metadata": {
        "id": "l65GjUjkanLC"
      }
    },
    {
      "cell_type": "markdown",
      "source": [
        "Loading the images via Pillow Library\n",
        "Let us check for an image that is in the PNG or JPEG format. The image can be referred via its path. Image class is the heart of PIL. It has open() function which opens up an image and digital file format can be retrieved as well as pixel format."
      ],
      "metadata": {
        "id": "VzFmqg3uekdV"
      }
    },
    {
      "cell_type": "code",
      "source": [
        "from PIL import Image\n",
        "image = Image.open('Sample.png')\n",
        "\n",
        "# summarize some details about the image\n",
        "print(image.format)\n",
        "print(image.size)\n",
        "print(image.mode)\n"
      ],
      "metadata": {
        "colab": {
          "base_uri": "https://localhost:8080/"
        },
        "id": "Xsu-XIH1sTaE",
        "outputId": "dcd25bc9-88c4-4d25-9f13-181921fcefb5"
      },
      "execution_count": null,
      "outputs": [
        {
          "output_type": "stream",
          "name": "stdout",
          "text": [
            "PNG\n",
            "(400, 200)\n",
            "RGB\n"
          ]
        }
      ]
    },
    {
      "cell_type": "markdown",
      "source": [
        "**Example 1:Using asarray() function**\n",
        "\n",
        "**asarray() function** is used to convert PIL images into NumPy arrays. This function converts the input to an array"
      ],
      "metadata": {
        "id": "OZUNegudfKoU"
      }
    },
    {
      "cell_type": "code",
      "source": [
        "# Import the necessary libraries\n",
        "from PIL import Image\n",
        "from numpy import asarray\n",
        "\n",
        "\n",
        "# load the image and convert into\n",
        "# numpy array\n",
        "img = Image.open('Sample.png')\n",
        "\n",
        "# asarray() class is used to convert\n",
        "# PIL images into NumPy arrays\n",
        "numpydata = asarray(img)\n",
        "\n",
        "# <class 'numpy.ndarray'>\n",
        "print(type(numpydata))\n",
        "\n",
        "# shape\n",
        "print(numpydata.shape)\n"
      ],
      "metadata": {
        "colab": {
          "base_uri": "https://localhost:8080/"
        },
        "id": "6BSMdfNbsTXI",
        "outputId": "11e6abef-5706-4234-8940-cfcea0d22775"
      },
      "execution_count": 24,
      "outputs": [
        {
          "output_type": "stream",
          "name": "stdout",
          "text": [
            "<class 'numpy.ndarray'>\n",
            "(200, 400, 3)\n"
          ]
        }
      ]
    },
    {
      "cell_type": "markdown",
      "source": [
        "**Example 2: Using numpy.array() function**"
      ],
      "metadata": {
        "id": "ecw_Wg4jfkrw"
      }
    },
    {
      "cell_type": "code",
      "source": [
        "from PIL import Image\n",
        "import numpy\n",
        "\n",
        "\n",
        "img= Image.open(\"Sample.png\")\n",
        "np_img = numpy.array(img)\n",
        "\n",
        "print(np_img.shape)\n"
      ],
      "metadata": {
        "colab": {
          "base_uri": "https://localhost:8080/"
        },
        "id": "Sm_MZWejsTUT",
        "outputId": "25b7a16c-7291-45b8-a3a0-8eaee1ac712b"
      },
      "execution_count": null,
      "outputs": [
        {
          "output_type": "stream",
          "name": "stdout",
          "text": [
            "(200, 400, 3)\n"
          ]
        }
      ]
    },
    {
      "cell_type": "markdown",
      "source": [
        "In order to get the value of each pixel of the NumPy array image, we need to print the retrieved data that got either from asarray() function or array() function."
      ],
      "metadata": {
        "id": "jVJ5vpVZf1yf"
      }
    },
    {
      "cell_type": "code",
      "source": [
        "# Import the necessary libraries\n",
        "from PIL import Image\n",
        "from numpy import asarray\n",
        "\n",
        "\n",
        "# load the image and convert into\n",
        "# numpy array\n",
        "img = Image.open('Sample.png')\n",
        "numpydata = asarray(img)\n",
        "\n",
        "# data\n",
        "print(numpydata)\n"
      ],
      "metadata": {
        "colab": {
          "base_uri": "https://localhost:8080/"
        },
        "id": "7E5yilWEsTQ8",
        "outputId": "2321b2d8-ceee-48c9-8670-ce30750428e5"
      },
      "execution_count": null,
      "outputs": [
        {
          "output_type": "stream",
          "name": "stdout",
          "text": [
            "[[[111  60   0]\n",
            "  [116  65   0]\n",
            "  [122  69   0]\n",
            "  ...\n",
            "  [ 97  47   0]\n",
            "  [ 99  47   0]\n",
            "  [100  49   0]]\n",
            "\n",
            " [[111  61   0]\n",
            "  [118  65   0]\n",
            "  [122  69   0]\n",
            "  ...\n",
            "  [ 97  47   0]\n",
            "  [ 99  48   0]\n",
            "  [100  49   0]]\n",
            "\n",
            " [[118  65   0]\n",
            "  [122  69   0]\n",
            "  [126  73   3]\n",
            "  ...\n",
            "  [ 98  48   0]\n",
            "  [100  49   0]\n",
            "  [100  49   0]]\n",
            "\n",
            " ...\n",
            "\n",
            " [[ 96  44   7]\n",
            "  [ 95  43   6]\n",
            "  [ 93  41   4]\n",
            "  ...\n",
            "  [225  80   3]\n",
            "  [228  80   0]\n",
            "  [229  78   0]]\n",
            "\n",
            " [[ 93  40   6]\n",
            "  [ 90  37   5]\n",
            "  [ 85  32   0]\n",
            "  ...\n",
            "  [226  81   4]\n",
            "  [231  80   1]\n",
            "  [232  79   1]]\n",
            "\n",
            " [[ 89  36   4]\n",
            "  [ 84  31   0]\n",
            "  [ 79  26   0]\n",
            "  ...\n",
            "  [228  81   4]\n",
            "  [232  81   4]\n",
            "  [233  80   2]]]\n"
          ]
        }
      ]
    },
    {
      "cell_type": "markdown",
      "source": [
        "#Using Keras API  to Convert images to NumPy array\n",
        "Keras API provides the functions for loading, converting, and saving image data. Keras is possible to run on the top of the TensorFlow framework and hence that is mandatory to have. Deep learning computer vision images require Keras API. To install it type the below command in the terminal"
      ],
      "metadata": {
        "id": "V3pRB9YigMjU"
      }
    },
    {
      "cell_type": "code",
      "source": [
        "!pip install keras"
      ],
      "metadata": {
        "id": "jdw5GpAWsSwv"
      },
      "execution_count": null,
      "outputs": []
    },
    {
      "cell_type": "markdown",
      "source": [
        "As Keras requires TensorFlow 2.2 or higher. If not there, need to install it. To install it type the below command in the terminal."
      ],
      "metadata": {
        "id": "VbMteBXXgZxm"
      }
    },
    {
      "cell_type": "code",
      "source": [
        "pip install tensorflow"
      ],
      "metadata": {
        "id": "Nuto8d5uPs0x"
      },
      "execution_count": null,
      "outputs": []
    },
    {
      "cell_type": "code",
      "source": [
        "from keras.preprocessing.image import load_img\n",
        "import warnings\n",
        "\n",
        "# load the image via load_img\n",
        "# function\n",
        "img = load_img('Sample.png')\n",
        "\n",
        "# details about the image printed below\n",
        "print(type(img))\n",
        "print(img.format)\n",
        "print(img.mode)\n",
        "print(img.size)\n"
      ],
      "metadata": {
        "id": "ZZgtDJvegwLe",
        "colab": {
          "base_uri": "https://localhost:8080/"
        },
        "outputId": "b1dc30f9-8324-455b-9ead-9b45e5bc54d2"
      },
      "execution_count": 10,
      "outputs": [
        {
          "output_type": "stream",
          "name": "stdout",
          "text": [
            "<class 'PIL.PngImagePlugin.PngImageFile'>\n",
            "PNG\n",
            "RGB\n",
            "(400, 200)\n"
          ]
        }
      ]
    },
    {
      "cell_type": "markdown",
      "source": [
        "Using Keras API, convert images to Numpy Array and reverting the image from Numpy Array\n",
        "\n"
      ],
      "metadata": {
        "id": "XkvWKgYog7BH"
      }
    },
    {
      "cell_type": "code",
      "source": [
        "from keras.preprocessing.image import img_to_array\n",
        "from keras.preprocessing.image import array_to_img\n",
        "\n",
        "# details about the image printed below\n",
        "print(type(img))\n",
        "print(img.format)\n",
        "print(img.mode)\n",
        "print(img.size)\n",
        "\n",
        "# convert the given image into numpy array\n",
        "img_numpy_array = img_to_array(img)\n",
        "print(\"Image is converted and NumPy array information :\")\n",
        "\n",
        "# <class 'numpy.ndarray'>\n",
        "print(type(img_numpy_array))\n",
        "\n",
        "# type: float32\n",
        "print(\"type:\", img_numpy_array.dtype)\n",
        "\n",
        "# shape: (200, 400, 3)\n",
        "print(\"shape:\", img_numpy_array.shape)\n",
        "\n",
        "# convert back to image\n",
        "img_pil_from_numpy_array = array_to_img(img_numpy_array)\n",
        "\n",
        "# <class 'PIL.PngImagePlugin.PngImageFile'>\n",
        "print(\"converting NumPy array into image:\",\n",
        "\ttype(img_pil_from_numpy_array))\n"
      ],
      "metadata": {
        "id": "bBub3-4cgwqj",
        "colab": {
          "base_uri": "https://localhost:8080/"
        },
        "outputId": "6e33d566-d10b-424d-e81f-289d46ca831b"
      },
      "execution_count": 11,
      "outputs": [
        {
          "output_type": "stream",
          "name": "stdout",
          "text": [
            "<class 'PIL.PngImagePlugin.PngImageFile'>\n",
            "PNG\n",
            "RGB\n",
            "(400, 200)\n",
            "Image is converted and NumPy array information :\n",
            "<class 'numpy.ndarray'>\n",
            "type: float32\n",
            "shape: (200, 400, 3)\n",
            "converting NumPy array into image: <class 'PIL.Image.Image'>\n"
          ]
        }
      ]
    },
    {
      "cell_type": "markdown",
      "source": [
        "#**Using OpenCV Library to Convert images to NumPy array**\n",
        "\n",
        "OpenCV version from 3.x has DNN and Caffe frameworks, and they are very helpful to solve deep learning problems. It can be installed by using"
      ],
      "metadata": {
        "id": "lHuAmmvwhIY2"
      }
    },
    {
      "cell_type": "code",
      "source": [
        "pip install opencv-contrib-python"
      ],
      "metadata": {
        "id": "Sht-A74Zegci"
      },
      "execution_count": null,
      "outputs": []
    },
    {
      "cell_type": "markdown",
      "source": [
        "**cv2 package has the following methods**\n",
        "\n",
        "imread() function is used to load the image and It also reads the given image (PIL image) in the NumPy array format.\n",
        "\n",
        "Then we need to convert the image color from BGR to RGB.\n",
        "\n",
        "imwrite() is used to save the image in the file."
      ],
      "metadata": {
        "id": "jWfceXfaiG8P"
      }
    },
    {
      "cell_type": "code",
      "source": [
        "import cv2\n",
        "\n",
        "image = cv2.imread('Sample.png')\n",
        "\n",
        "# BGR -> RGB\n",
        "img = cv2.cvtColor(image, cv2.COLOR_BGR2RGB)\n",
        "\n",
        "cv2.imwrite('opncv_sample.png', img)\n",
        "print (type(img))\n"
      ],
      "metadata": {
        "colab": {
          "base_uri": "https://localhost:8080/"
        },
        "id": "KOfrpMWnhNb-",
        "outputId": "824362fb-4521-42d3-b1e2-5701a9dde881"
      },
      "execution_count": 12,
      "outputs": [
        {
          "output_type": "stream",
          "name": "stdout",
          "text": [
            "<class 'numpy.ndarray'>\n"
          ]
        }
      ]
    },
    {
      "cell_type": "code",
      "source": [],
      "metadata": {
        "id": "sgdr1_9c9sva"
      },
      "execution_count": null,
      "outputs": []
    },
    {
      "cell_type": "code",
      "source": [],
      "metadata": {
        "id": "NOiN_0dP9ssw"
      },
      "execution_count": null,
      "outputs": []
    }
  ]
}