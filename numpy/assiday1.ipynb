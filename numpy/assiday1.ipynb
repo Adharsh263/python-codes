{
 "cells": [
  {
   "cell_type": "code",
   "execution_count": null,
   "metadata": {},
   "outputs": [
    {
     "name": "stdout",
     "output_type": "stream",
     "text": [
      "[ 1  2  3  4  5  6  7  8  9 10 11 12 13 14 15 16 17 18 19 20]\n"
     ]
    }
   ],
   "source": [
    "#Array Creation and Basic Operations:\n",
    "import numpy as np\n",
    "array1=np.arange(1,21)\n",
    "type(array1)\n",
    "print(array1)"
   ]
  },
  {
   "cell_type": "code",
   "execution_count": 8,
   "metadata": {},
   "outputs": [
    {
     "name": "stdout",
     "output_type": "stream",
     "text": [
      "210\n"
     ]
    }
   ],
   "source": [
    "add_array1=array1 +5\n",
    "sum_array=np.sum(array1)\n",
    "print(sum_array)\n"
   ]
  },
  {
   "cell_type": "code",
   "execution_count": 10,
   "metadata": {},
   "outputs": [
    {
     "name": "stdout",
     "output_type": "stream",
     "text": [
      "10.5\n"
     ]
    }
   ],
   "source": [
    "sub_array1=array1 -5\n",
    "mean_array1=np.mean(array1)\n",
    "print(mean_array1)"
   ]
  },
  {
   "cell_type": "code",
   "execution_count": 11,
   "metadata": {},
   "outputs": [
    {
     "name": "stdout",
     "output_type": "stream",
     "text": [
      "20\n"
     ]
    }
   ],
   "source": [
    "mul_array1=array1 *5\n",
    "max_array1=np.max(array1)\n",
    "print(max_array1)"
   ]
  },
  {
   "cell_type": "code",
   "execution_count": 13,
   "metadata": {},
   "outputs": [
    {
     "name": "stdout",
     "output_type": "stream",
     "text": [
      "1\n"
     ]
    }
   ],
   "source": [
    "div_array1=array1 /5\n",
    "min_array1=np.min(array1)\n",
    "print(min_array1)"
   ]
  },
  {
   "cell_type": "code",
   "execution_count": 15,
   "metadata": {},
   "outputs": [
    {
     "name": "stdout",
     "output_type": "stream",
     "text": [
      "[[35 33 44 21 43]\n",
      " [41 25 39 31 45]\n",
      " [28 47 50 20 11]\n",
      " [50 27 48 24 17]]\n"
     ]
    }
   ],
   "source": [
    "#Array Indexing and Slicing:\n",
    "import numpy as np\n",
    "array1=np.random.randint(10,51,size=(4,5))\n",
    "print(array1)\n"
   ]
  },
  {
   "cell_type": "code",
   "execution_count": 19,
   "metadata": {},
   "outputs": [
    {
     "name": "stdout",
     "output_type": "stream",
     "text": [
      "[44 39 50 48]\n"
     ]
    }
   ],
   "source": [
    "extract_column=array1[:,2]\n",
    "print(extract_column)"
   ]
  },
  {
   "cell_type": "code",
   "execution_count": 27,
   "metadata": {},
   "outputs": [
    {
     "name": "stdout",
     "output_type": "stream",
     "text": [
      "[[35 33 44 21 43]\n",
      " [41 25 39 31 45]]\n"
     ]
    }
   ],
   "source": [
    "extract_rows=array1[:2]\n",
    "print(extract_rows)"
   ]
  },
  {
   "cell_type": "code",
   "execution_count": null,
   "metadata": {},
   "outputs": [
    {
     "ename": "SyntaxError",
     "evalue": "cannot assign to comparison (769700628.py, line 1)",
     "output_type": "error",
     "traceback": [
      "\u001b[1;36m  Cell \u001b[1;32mIn[32], line 1\u001b[1;36m\u001b[0m\n\u001b[1;33m    random_array=[random_array>25]=100\u001b[0m\n\u001b[1;37m                  ^\u001b[0m\n\u001b[1;31mSyntaxError\u001b[0m\u001b[1;31m:\u001b[0m cannot assign to comparison\n"
     ]
    }
   ],
   "source": [
    "=[random_array>25]=100\n",
    "print(array1)"
   ]
  },
  {
   "cell_type": "code",
   "execution_count": 33,
   "metadata": {},
   "outputs": [
    {
     "name": "stdout",
     "output_type": "stream",
     "text": [
      "[[ 1  2  3  4]\n",
      " [ 5  6  7  8]\n",
      " [ 9 10 11 12]]\n"
     ]
    }
   ],
   "source": [
    "#Array Reshaping:\n",
    "array1=np.arange(1,13).reshape(3,4)\n",
    "print(array1)"
   ]
  },
  {
   "cell_type": "code",
   "execution_count": 3,
   "metadata": {},
   "outputs": [
    {
     "name": "stdout",
     "output_type": "stream",
     "text": [
      "[[1], [2], [4], [5], 1, 2, 3, 4]\n"
     ]
    }
   ],
   "source": [
    "# BR0ADCASTING\n",
    "array1=([[1],[2],[4],[5]])\n",
    "array2=([1,2,3,4])\n",
    "result=array1+array2\n",
    "print(result)"
   ]
  },
  {
   "cell_type": "code",
   "execution_count": 3,
   "metadata": {},
   "outputs": [
    {
     "name": "stdout",
     "output_type": "stream",
     "text": [
      "mean: 0.46410286163034303\n",
      "standard deviation: 0.21901909774991526\n",
      "variance: 0.047969365179186936\n",
      "median along axis 0: [0.6666075  0.38164589 0.48082918]\n",
      "median along axis 1: [0.48082918 0.72145302 0.43226133]\n"
     ]
    }
   ],
   "source": [
    "import numpy as np\n",
    "array=np.random.rand(3,3)\n",
    "array\n",
    "mean=np.mean(array)\n",
    "std=np.std(array)\n",
    "var=np.var(array)\n",
    "print('mean:',mean)\n",
    "print('standard deviation:',std)\n",
    "print('variance:',var)\n",
    "median0=np.median(array,axis=0)\n",
    "median1=np.median(array,axis=1)\n",
    "print('median along axis 0:',median0)\n",
    "print('median along axis 1:',median1)\n",
    "\n"
   ]
  },
  {
   "cell_type": "code",
   "execution_count": 10,
   "metadata": {},
   "outputs": [
    {
     "name": "stdout",
     "output_type": "stream",
     "text": [
      "[62 50 74 74 83 58 57 83 99 68 75 72 64 79 99]\n",
      "sorted: [50 57 58 62 64 68 72 74 74 75 79 83 83 99 99]\n",
      "indices greater than 75: (array([ 4,  7,  8, 13, 14]),)\n"
     ]
    }
   ],
   "source": [
    "import  numpy as np \n",
    "array=np.random.randint(50,100,15)\n",
    "print(array)\n",
    "sorted=np.sort(array)\n",
    "print('sorted:',sorted)\n",
    "indices=np.where(array>75)\n",
    "print('indices greater than 75:',indices)"
   ]
  },
  {
   "cell_type": "code",
   "execution_count": 12,
   "metadata": {},
   "outputs": [
    {
     "name": "stdout",
     "output_type": "stream",
     "text": [
      "[[6 9 9]\n",
      " [8 6 9]\n",
      " [2 2 5]]\n",
      "[[5 3 1]\n",
      " [5 5 1]\n",
      " [3 8 2]]\n",
      "addition: [[11 12 10]\n",
      " [13 11 10]\n",
      " [ 5 10  7]]\n",
      "subtraction: [[ 1  6  8]\n",
      " [ 3  1  8]\n",
      " [-1 -6  3]]\n",
      "multiplication: [[30 27  9]\n",
      " [40 30  9]\n",
      " [ 6 16 10]]\n",
      "division: [[1.2        3.         9.        ]\n",
      " [1.6        1.2        9.        ]\n",
      " [0.66666667 0.25       2.5       ]]\n",
      "dot product: [[102 135  33]\n",
      " [ 97 126  32]\n",
      " [ 35  56  14]]\n"
     ]
    }
   ],
   "source": [
    "import numpy as np\n",
    "arr1 = np.random.randint(1, 10, (3, 3))\n",
    "arr2 = np.random.randint(1, 10, (3, 3))\n",
    "add=arr1+arr2\n",
    "sub=arr1-arr2\n",
    "mult=arr1*arr2\n",
    "div=arr1/arr2\n",
    "dot_product=np.dot(arr1,arr2)\n",
    "print(arr1)\n",
    "print(arr2)\n",
    "print('addition:',add)\n",
    "print('subtraction:',sub)\n",
    "print('multiplication:',mult)\n",
    "print('division:',div)\n",
    "print('dot product:',dot_product)\n",
    "\n"
   ]
  },
  {
   "cell_type": "code",
   "execution_count": 2,
   "metadata": {},
   "outputs": [
    {
     "name": "stdout",
     "output_type": "stream",
     "text": [
      "Collecting opencv-python\n",
      "  Downloading opencv_python-4.10.0.84-cp37-abi3-win_amd64.whl.metadata (20 kB)\n",
      "Requirement already satisfied: numpy>=1.21.2 in c:\\users\\adhar\\appdata\\local\\packages\\pythonsoftwarefoundation.python.3.11_qbz5n2kfra8p0\\localcache\\local-packages\\python311\\site-packages (from opencv-python) (2.1.1)\n",
      "Downloading opencv_python-4.10.0.84-cp37-abi3-win_amd64.whl (38.8 MB)\n",
      "   ---------------------------------------- 0.0/38.8 MB ? eta -:--:--\n",
      "   ---------------------------------------- 0.0/38.8 MB 1.4 MB/s eta 0:00:29\n",
      "   ---------------------------------------- 0.1/38.8 MB 1.4 MB/s eta 0:00:27\n",
      "   ---------------------------------------- 0.3/38.8 MB 2.3 MB/s eta 0:00:17\n",
      "    --------------------------------------- 0.6/38.8 MB 3.6 MB/s eta 0:00:11\n",
      "   - -------------------------------------- 1.0/38.8 MB 4.7 MB/s eta 0:00:09\n",
      "   - -------------------------------------- 1.5/38.8 MB 5.6 MB/s eta 0:00:07\n",
      "   -- ------------------------------------- 2.0/38.8 MB 6.3 MB/s eta 0:00:06\n",
      "   -- ------------------------------------- 2.4/38.8 MB 7.3 MB/s eta 0:00:06\n",
      "   --- ------------------------------------ 3.1/38.8 MB 7.9 MB/s eta 0:00:05\n",
      "   --- ------------------------------------ 3.7/38.8 MB 8.3 MB/s eta 0:00:05\n",
      "   ---- ----------------------------------- 4.2/38.8 MB 8.7 MB/s eta 0:00:04\n",
      "   ---- ----------------------------------- 4.8/38.8 MB 9.1 MB/s eta 0:00:04\n",
      "   ----- ---------------------------------- 5.4/38.8 MB 9.4 MB/s eta 0:00:04\n",
      "   ------ --------------------------------- 6.1/38.8 MB 9.7 MB/s eta 0:00:04\n",
      "   ------ --------------------------------- 6.7/38.8 MB 9.9 MB/s eta 0:00:04\n",
      "   ------- -------------------------------- 7.6/38.8 MB 10.6 MB/s eta 0:00:03\n",
      "   -------- ------------------------------- 8.2/38.8 MB 10.7 MB/s eta 0:00:03\n",
      "   --------- ------------------------------ 9.1/38.8 MB 11.2 MB/s eta 0:00:03\n",
      "   --------- ------------------------------ 9.4/38.8 MB 11.0 MB/s eta 0:00:03\n",
      "   ---------- ----------------------------- 10.1/38.8 MB 11.2 MB/s eta 0:00:03\n",
      "   ---------- ----------------------------- 10.3/38.8 MB 11.7 MB/s eta 0:00:03\n",
      "   ----------- ---------------------------- 11.2/38.8 MB 13.1 MB/s eta 0:00:03\n",
      "   ----------- ---------------------------- 11.6/38.8 MB 12.9 MB/s eta 0:00:03\n",
      "   ------------ --------------------------- 12.4/38.8 MB 13.1 MB/s eta 0:00:03\n",
      "   ------------- -------------------------- 13.4/38.8 MB 13.9 MB/s eta 0:00:02\n",
      "   -------------- ------------------------- 14.4/38.8 MB 14.6 MB/s eta 0:00:02\n",
      "   -------------- ------------------------- 14.5/38.8 MB 14.6 MB/s eta 0:00:02\n",
      "   -------------- ------------------------- 14.5/38.8 MB 13.4 MB/s eta 0:00:02\n",
      "   -------------- ------------------------- 14.5/38.8 MB 13.4 MB/s eta 0:00:02\n",
      "   -------------- ------------------------- 14.5/38.8 MB 11.7 MB/s eta 0:00:03\n",
      "   ---------------- ----------------------- 16.5/38.8 MB 13.1 MB/s eta 0:00:02\n",
      "   ----------------- ---------------------- 17.0/38.8 MB 12.8 MB/s eta 0:00:02\n",
      "   ------------------ --------------------- 17.7/38.8 MB 12.8 MB/s eta 0:00:02\n",
      "   ------------------ --------------------- 18.3/38.8 MB 12.9 MB/s eta 0:00:02\n",
      "   ------------------- -------------------- 18.9/38.8 MB 13.1 MB/s eta 0:00:02\n",
      "   ------------------- -------------------- 19.0/38.8 MB 12.1 MB/s eta 0:00:02\n",
      "   -------------------- ------------------- 19.9/38.8 MB 12.6 MB/s eta 0:00:02\n",
      "   --------------------- ------------------ 20.6/38.8 MB 13.1 MB/s eta 0:00:02\n",
      "   --------------------- ------------------ 21.1/38.8 MB 12.8 MB/s eta 0:00:02\n",
      "   ---------------------- ----------------- 21.5/38.8 MB 12.6 MB/s eta 0:00:02\n",
      "   ---------------------- ----------------- 22.2/38.8 MB 12.6 MB/s eta 0:00:02\n",
      "   ----------------------- ---------------- 22.6/38.8 MB 12.4 MB/s eta 0:00:02\n",
      "   ----------------------- ---------------- 23.1/38.8 MB 12.1 MB/s eta 0:00:02\n",
      "   ------------------------ --------------- 23.6/38.8 MB 11.7 MB/s eta 0:00:02\n",
      "   ------------------------ --------------- 24.2/38.8 MB 11.5 MB/s eta 0:00:02\n",
      "   ------------------------- -------------- 24.7/38.8 MB 11.1 MB/s eta 0:00:02\n",
      "   ------------------------- -------------- 25.1/38.8 MB 13.4 MB/s eta 0:00:02\n",
      "   -------------------------- ------------- 25.6/38.8 MB 12.8 MB/s eta 0:00:02\n",
      "   --------------------------- ------------ 26.3/38.8 MB 12.1 MB/s eta 0:00:02\n",
      "   --------------------------- ------------ 26.8/38.8 MB 12.1 MB/s eta 0:00:01\n",
      "   ---------------------------- ----------- 27.3/38.8 MB 11.7 MB/s eta 0:00:01\n",
      "   ---------------------------- ----------- 28.0/38.8 MB 11.7 MB/s eta 0:00:01\n",
      "   ----------------------------- ---------- 28.4/38.8 MB 11.3 MB/s eta 0:00:01\n",
      "   ----------------------------- ---------- 28.9/38.8 MB 11.5 MB/s eta 0:00:01\n",
      "   ------------------------------ --------- 29.5/38.8 MB 11.7 MB/s eta 0:00:01\n",
      "   ------------------------------ --------- 29.6/38.8 MB 11.9 MB/s eta 0:00:01\n",
      "   ------------------------------ --------- 30.0/38.8 MB 10.7 MB/s eta 0:00:01\n",
      "   ------------------------------- -------- 30.7/38.8 MB 10.9 MB/s eta 0:00:01\n",
      "   -------------------------------- ------- 31.2/38.8 MB 10.9 MB/s eta 0:00:01\n",
      "   -------------------------------- ------- 31.6/38.8 MB 10.7 MB/s eta 0:00:01\n",
      "   -------------------------------- ------- 32.0/38.8 MB 10.6 MB/s eta 0:00:01\n",
      "   --------------------------------- ------ 32.4/38.8 MB 10.6 MB/s eta 0:00:01\n",
      "   --------------------------------- ------ 32.8/38.8 MB 10.6 MB/s eta 0:00:01\n",
      "   ---------------------------------- ----- 33.2/38.8 MB 10.4 MB/s eta 0:00:01\n",
      "   ---------------------------------- ----- 33.5/38.8 MB 10.2 MB/s eta 0:00:01\n",
      "   ----------------------------------- ---- 34.0/38.8 MB 10.2 MB/s eta 0:00:01\n",
      "   ----------------------------------- ---- 34.4/38.8 MB 10.1 MB/s eta 0:00:01\n",
      "   ----------------------------------- ---- 34.7/38.8 MB 9.9 MB/s eta 0:00:01\n",
      "   ------------------------------------ --- 35.2/38.8 MB 9.9 MB/s eta 0:00:01\n",
      "   ------------------------------------ --- 35.6/38.8 MB 9.8 MB/s eta 0:00:01\n",
      "   ------------------------------------- -- 35.9/38.8 MB 9.6 MB/s eta 0:00:01\n",
      "   ------------------------------------- -- 36.5/38.8 MB 9.6 MB/s eta 0:00:01\n",
      "   ------------------------------------- -- 36.8/38.8 MB 9.5 MB/s eta 0:00:01\n",
      "   -------------------------------------- - 37.2/38.8 MB 9.2 MB/s eta 0:00:01\n",
      "   -------------------------------------- - 37.6/38.8 MB 9.2 MB/s eta 0:00:01\n",
      "   ---------------------------------------  38.0/38.8 MB 9.1 MB/s eta 0:00:01\n",
      "   ---------------------------------------  38.4/38.8 MB 9.1 MB/s eta 0:00:01\n",
      "   ---------------------------------------  38.7/38.8 MB 8.8 MB/s eta 0:00:01\n",
      "   ---------------------------------------  38.8/38.8 MB 9.0 MB/s eta 0:00:01\n",
      "   ---------------------------------------- 38.8/38.8 MB 8.4 MB/s eta 0:00:00\n",
      "Installing collected packages: opencv-python\n",
      "Successfully installed opencv-python-4.10.0.84\n",
      "Note: you may need to restart the kernel to use updated packages.\n"
     ]
    },
    {
     "name": "stderr",
     "output_type": "stream",
     "text": [
      "\n",
      "[notice] A new release of pip is available: 24.0 -> 24.3.1\n",
      "[notice] To update, run: C:\\Users\\adhar\\AppData\\Local\\Microsoft\\WindowsApps\\PythonSoftwareFoundation.Python.3.11_qbz5n2kfra8p0\\python.exe -m pip install --upgrade pip\n"
     ]
    }
   ],
   "source": [
    "pip install opencv-python"
   ]
  },
  {
   "cell_type": "code",
   "execution_count": 1,
   "metadata": {},
   "outputs": [],
   "source": [
    "\n",
    "import numpy as np\n",
    "import cv2\n",
    "white_image=np.full((400,400,3),225,dtype=np.uint8)\n",
    "cv2.imshow('White Image',white_image)\n",
    "#cv2.waitKey(0)\n",
    "cv2.destroyAllWindows()\n"
   ]
  },
  {
   "cell_type": "code",
   "execution_count": 5,
   "metadata": {},
   "outputs": [],
   "source": [
    "\n",
    "import numpy as np\n",
    "import cv2\n",
    "white_image=np.zeros((400,400,3),dtype=np.uint8)\n",
    "white_image[:,:]=[100,99,9]\n",
    "cv2.imshow('White Image',white_image)\n",
    "cv2.waitKey(0)\n",
    "cv2.destroyAllWindows()\n"
   ]
  }
 ],
 "metadata": {
  "kernelspec": {
   "display_name": "Python 3",
   "language": "python",
   "name": "python3"
  },
  "language_info": {
   "codemirror_mode": {
    "name": "ipython",
    "version": 3
   },
   "file_extension": ".py",
   "mimetype": "text/x-python",
   "name": "python",
   "nbconvert_exporter": "python",
   "pygments_lexer": "ipython3",
   "version": "3.11.9"
  }
 },
 "nbformat": 4,
 "nbformat_minor": 2
}
